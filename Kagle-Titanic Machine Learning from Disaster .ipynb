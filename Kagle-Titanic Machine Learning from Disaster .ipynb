{
 "cells": [
  {
   "cell_type": "markdown",
   "metadata": {},
   "source": [
    "**Githut for Data Science Competition:Titanic Machine Learning from Disaster**"
   ]
  },
  {
   "cell_type": "code",
   "execution_count": 1,
   "metadata": {},
   "outputs": [],
   "source": [
    "URL= 'https://github.com/christophercyc/Titanic-Machine-Learning-from-Disaster-.git'"
   ]
  },
  {
   "cell_type": "code",
   "execution_count": null,
   "metadata": {},
   "outputs": [],
   "source": []
  },
  {
   "cell_type": "markdown",
   "metadata": {},
   "source": [
    "# Pre-import library for data analysis"
   ]
  },
  {
   "cell_type": "code",
   "execution_count": 2,
   "metadata": {},
   "outputs": [],
   "source": [
    "import pandas as pd\n",
    "import numpy as np\n",
    "import matplotlib.pyplot as plt\n",
    "import seaborn as sns\n",
    "\n",
    "\n",
    "from sklearn import preprocessing\n",
    "from sklearn.model_selection import GridSearchCV\n",
    "from sklearn.model_selection import cross_val_score, StratifiedKFold, learning_curve, train_test_split\n",
    "from sklearn.ensemble import RandomForestRegressor\n",
    "from sklearn.ensemble import RandomForestClassifier\n",
    "from xgboost import XGBClassifier\n",
    "\n",
    "\n",
    "from IPython.display import display\n",
    "from IPython.display import display_html\n",
    "\n",
    "from sklearn.preprocessing import LabelEncoder\n",
    "from sklearn.feature_selection import RFECV\n",
    "def display_side_by_side(*args):\n",
    "    html_str=''\n",
    "    for df in args:\n",
    "        html_str+=df.to_html()\n",
    "    display_html(html_str.replace('table','table style=\"display:inline\"'),raw=True)\n",
    "    \n",
    "# ignore warning\n",
    "import warnings\n",
    "warnings.filterwarnings(\"ignore\")\n",
    "\n",
    "train=pd.read_csv(\"dataset/train.csv\")\n",
    "test=pd.read_csv(\"dataset/test.csv\")"
   ]
  },
  {
   "cell_type": "code",
   "execution_count": null,
   "metadata": {},
   "outputs": [],
   "source": []
  },
  {
   "cell_type": "code",
   "execution_count": null,
   "metadata": {},
   "outputs": [],
   "source": []
  },
  {
   "cell_type": "markdown",
   "metadata": {},
   "source": [
    "# Data understanding"
   ]
  },
  {
   "cell_type": "code",
   "execution_count": 3,
   "metadata": {},
   "outputs": [
    {
     "name": "stdout",
     "output_type": "stream",
     "text": [
      "<class 'pandas.core.frame.DataFrame'>\n",
      "RangeIndex: 891 entries, 0 to 890\n",
      "Data columns (total 12 columns):\n",
      "PassengerId    891 non-null int64\n",
      "Survived       891 non-null int64\n",
      "Pclass         891 non-null int64\n",
      "Name           891 non-null object\n",
      "Sex            891 non-null object\n",
      "Age            714 non-null float64\n",
      "SibSp          891 non-null int64\n",
      "Parch          891 non-null int64\n",
      "Ticket         891 non-null object\n",
      "Fare           891 non-null float64\n",
      "Cabin          204 non-null object\n",
      "Embarked       889 non-null object\n",
      "dtypes: float64(2), int64(5), object(5)\n",
      "memory usage: 83.6+ KB\n"
     ]
    }
   ],
   "source": [
    "# Checking missing\n",
    "train.info()"
   ]
  },
  {
   "cell_type": "code",
   "execution_count": 4,
   "metadata": {},
   "outputs": [
    {
     "name": "stdout",
     "output_type": "stream",
     "text": [
      "<class 'pandas.core.frame.DataFrame'>\n",
      "RangeIndex: 418 entries, 0 to 417\n",
      "Data columns (total 11 columns):\n",
      "PassengerId    418 non-null int64\n",
      "Pclass         418 non-null int64\n",
      "Name           418 non-null object\n",
      "Sex            418 non-null object\n",
      "Age            332 non-null float64\n",
      "SibSp          418 non-null int64\n",
      "Parch          418 non-null int64\n",
      "Ticket         418 non-null object\n",
      "Fare           417 non-null float64\n",
      "Cabin          91 non-null object\n",
      "Embarked       418 non-null object\n",
      "dtypes: float64(2), int64(4), object(5)\n",
      "memory usage: 36.0+ KB\n"
     ]
    }
   ],
   "source": [
    "test.info()"
   ]
  },
  {
   "cell_type": "code",
   "execution_count": 5,
   "metadata": {},
   "outputs": [
    {
     "data": {
      "text/html": [
       "<div>\n",
       "<style scoped>\n",
       "    .dataframe tbody tr th:only-of-type {\n",
       "        vertical-align: middle;\n",
       "    }\n",
       "\n",
       "    .dataframe tbody tr th {\n",
       "        vertical-align: top;\n",
       "    }\n",
       "\n",
       "    .dataframe thead th {\n",
       "        text-align: right;\n",
       "    }\n",
       "</style>\n",
       "<table border=\"1\" class=\"dataframe\">\n",
       "  <thead>\n",
       "    <tr style=\"text-align: right;\">\n",
       "      <th></th>\n",
       "      <th>PassengerId</th>\n",
       "      <th>Survived</th>\n",
       "      <th>Pclass</th>\n",
       "      <th>Age</th>\n",
       "      <th>SibSp</th>\n",
       "      <th>Parch</th>\n",
       "      <th>Fare</th>\n",
       "    </tr>\n",
       "  </thead>\n",
       "  <tbody>\n",
       "    <tr>\n",
       "      <th>count</th>\n",
       "      <td>891.000000</td>\n",
       "      <td>891.000000</td>\n",
       "      <td>891.000000</td>\n",
       "      <td>714.000000</td>\n",
       "      <td>891.000000</td>\n",
       "      <td>891.000000</td>\n",
       "      <td>891.000000</td>\n",
       "    </tr>\n",
       "    <tr>\n",
       "      <th>mean</th>\n",
       "      <td>446.000000</td>\n",
       "      <td>0.383838</td>\n",
       "      <td>2.308642</td>\n",
       "      <td>29.699118</td>\n",
       "      <td>0.523008</td>\n",
       "      <td>0.381594</td>\n",
       "      <td>32.204208</td>\n",
       "    </tr>\n",
       "    <tr>\n",
       "      <th>std</th>\n",
       "      <td>257.353842</td>\n",
       "      <td>0.486592</td>\n",
       "      <td>0.836071</td>\n",
       "      <td>14.526497</td>\n",
       "      <td>1.102743</td>\n",
       "      <td>0.806057</td>\n",
       "      <td>49.693429</td>\n",
       "    </tr>\n",
       "    <tr>\n",
       "      <th>min</th>\n",
       "      <td>1.000000</td>\n",
       "      <td>0.000000</td>\n",
       "      <td>1.000000</td>\n",
       "      <td>0.420000</td>\n",
       "      <td>0.000000</td>\n",
       "      <td>0.000000</td>\n",
       "      <td>0.000000</td>\n",
       "    </tr>\n",
       "    <tr>\n",
       "      <th>25%</th>\n",
       "      <td>223.500000</td>\n",
       "      <td>0.000000</td>\n",
       "      <td>2.000000</td>\n",
       "      <td>20.125000</td>\n",
       "      <td>0.000000</td>\n",
       "      <td>0.000000</td>\n",
       "      <td>7.910400</td>\n",
       "    </tr>\n",
       "    <tr>\n",
       "      <th>50%</th>\n",
       "      <td>446.000000</td>\n",
       "      <td>0.000000</td>\n",
       "      <td>3.000000</td>\n",
       "      <td>28.000000</td>\n",
       "      <td>0.000000</td>\n",
       "      <td>0.000000</td>\n",
       "      <td>14.454200</td>\n",
       "    </tr>\n",
       "    <tr>\n",
       "      <th>75%</th>\n",
       "      <td>668.500000</td>\n",
       "      <td>1.000000</td>\n",
       "      <td>3.000000</td>\n",
       "      <td>38.000000</td>\n",
       "      <td>1.000000</td>\n",
       "      <td>0.000000</td>\n",
       "      <td>31.000000</td>\n",
       "    </tr>\n",
       "    <tr>\n",
       "      <th>max</th>\n",
       "      <td>891.000000</td>\n",
       "      <td>1.000000</td>\n",
       "      <td>3.000000</td>\n",
       "      <td>80.000000</td>\n",
       "      <td>8.000000</td>\n",
       "      <td>6.000000</td>\n",
       "      <td>512.329200</td>\n",
       "    </tr>\n",
       "  </tbody>\n",
       "</table>\n",
       "</div>"
      ],
      "text/plain": [
       "       PassengerId    Survived      Pclass         Age       SibSp  \\\n",
       "count   891.000000  891.000000  891.000000  714.000000  891.000000   \n",
       "mean    446.000000    0.383838    2.308642   29.699118    0.523008   \n",
       "std     257.353842    0.486592    0.836071   14.526497    1.102743   \n",
       "min       1.000000    0.000000    1.000000    0.420000    0.000000   \n",
       "25%     223.500000    0.000000    2.000000   20.125000    0.000000   \n",
       "50%     446.000000    0.000000    3.000000   28.000000    0.000000   \n",
       "75%     668.500000    1.000000    3.000000   38.000000    1.000000   \n",
       "max     891.000000    1.000000    3.000000   80.000000    8.000000   \n",
       "\n",
       "            Parch        Fare  \n",
       "count  891.000000  891.000000  \n",
       "mean     0.381594   32.204208  \n",
       "std      0.806057   49.693429  \n",
       "min      0.000000    0.000000  \n",
       "25%      0.000000    7.910400  \n",
       "50%      0.000000   14.454200  \n",
       "75%      0.000000   31.000000  \n",
       "max      6.000000  512.329200  "
      ]
     },
     "execution_count": 5,
     "metadata": {},
     "output_type": "execute_result"
    }
   ],
   "source": [
    "# check statistic\n",
    "train.describe()"
   ]
  },
  {
   "cell_type": "code",
   "execution_count": 6,
   "metadata": {},
   "outputs": [
    {
     "data": {
      "text/html": [
       "<div>\n",
       "<style scoped>\n",
       "    .dataframe tbody tr th:only-of-type {\n",
       "        vertical-align: middle;\n",
       "    }\n",
       "\n",
       "    .dataframe tbody tr th {\n",
       "        vertical-align: top;\n",
       "    }\n",
       "\n",
       "    .dataframe thead th {\n",
       "        text-align: right;\n",
       "    }\n",
       "</style>\n",
       "<table border=\"1\" class=\"dataframe\">\n",
       "  <thead>\n",
       "    <tr style=\"text-align: right;\">\n",
       "      <th></th>\n",
       "      <th>PassengerId</th>\n",
       "      <th>Pclass</th>\n",
       "      <th>Age</th>\n",
       "      <th>SibSp</th>\n",
       "      <th>Parch</th>\n",
       "      <th>Fare</th>\n",
       "    </tr>\n",
       "  </thead>\n",
       "  <tbody>\n",
       "    <tr>\n",
       "      <th>count</th>\n",
       "      <td>418.000000</td>\n",
       "      <td>418.000000</td>\n",
       "      <td>332.000000</td>\n",
       "      <td>418.000000</td>\n",
       "      <td>418.000000</td>\n",
       "      <td>417.000000</td>\n",
       "    </tr>\n",
       "    <tr>\n",
       "      <th>mean</th>\n",
       "      <td>1100.500000</td>\n",
       "      <td>2.265550</td>\n",
       "      <td>30.272590</td>\n",
       "      <td>0.447368</td>\n",
       "      <td>0.392344</td>\n",
       "      <td>35.627188</td>\n",
       "    </tr>\n",
       "    <tr>\n",
       "      <th>std</th>\n",
       "      <td>120.810458</td>\n",
       "      <td>0.841838</td>\n",
       "      <td>14.181209</td>\n",
       "      <td>0.896760</td>\n",
       "      <td>0.981429</td>\n",
       "      <td>55.907576</td>\n",
       "    </tr>\n",
       "    <tr>\n",
       "      <th>min</th>\n",
       "      <td>892.000000</td>\n",
       "      <td>1.000000</td>\n",
       "      <td>0.170000</td>\n",
       "      <td>0.000000</td>\n",
       "      <td>0.000000</td>\n",
       "      <td>0.000000</td>\n",
       "    </tr>\n",
       "    <tr>\n",
       "      <th>25%</th>\n",
       "      <td>996.250000</td>\n",
       "      <td>1.000000</td>\n",
       "      <td>21.000000</td>\n",
       "      <td>0.000000</td>\n",
       "      <td>0.000000</td>\n",
       "      <td>7.895800</td>\n",
       "    </tr>\n",
       "    <tr>\n",
       "      <th>50%</th>\n",
       "      <td>1100.500000</td>\n",
       "      <td>3.000000</td>\n",
       "      <td>27.000000</td>\n",
       "      <td>0.000000</td>\n",
       "      <td>0.000000</td>\n",
       "      <td>14.454200</td>\n",
       "    </tr>\n",
       "    <tr>\n",
       "      <th>75%</th>\n",
       "      <td>1204.750000</td>\n",
       "      <td>3.000000</td>\n",
       "      <td>39.000000</td>\n",
       "      <td>1.000000</td>\n",
       "      <td>0.000000</td>\n",
       "      <td>31.500000</td>\n",
       "    </tr>\n",
       "    <tr>\n",
       "      <th>max</th>\n",
       "      <td>1309.000000</td>\n",
       "      <td>3.000000</td>\n",
       "      <td>76.000000</td>\n",
       "      <td>8.000000</td>\n",
       "      <td>9.000000</td>\n",
       "      <td>512.329200</td>\n",
       "    </tr>\n",
       "  </tbody>\n",
       "</table>\n",
       "</div>"
      ],
      "text/plain": [
       "       PassengerId      Pclass         Age       SibSp       Parch        Fare\n",
       "count   418.000000  418.000000  332.000000  418.000000  418.000000  417.000000\n",
       "mean   1100.500000    2.265550   30.272590    0.447368    0.392344   35.627188\n",
       "std     120.810458    0.841838   14.181209    0.896760    0.981429   55.907576\n",
       "min     892.000000    1.000000    0.170000    0.000000    0.000000    0.000000\n",
       "25%     996.250000    1.000000   21.000000    0.000000    0.000000    7.895800\n",
       "50%    1100.500000    3.000000   27.000000    0.000000    0.000000   14.454200\n",
       "75%    1204.750000    3.000000   39.000000    1.000000    0.000000   31.500000\n",
       "max    1309.000000    3.000000   76.000000    8.000000    9.000000  512.329200"
      ]
     },
     "execution_count": 6,
     "metadata": {},
     "output_type": "execute_result"
    }
   ],
   "source": [
    "test.describe()"
   ]
  },
  {
   "cell_type": "code",
   "execution_count": 7,
   "metadata": {},
   "outputs": [
    {
     "data": {
      "text/html": [
       "<div>\n",
       "<style scoped>\n",
       "    .dataframe tbody tr th:only-of-type {\n",
       "        vertical-align: middle;\n",
       "    }\n",
       "\n",
       "    .dataframe tbody tr th {\n",
       "        vertical-align: top;\n",
       "    }\n",
       "\n",
       "    .dataframe thead th {\n",
       "        text-align: right;\n",
       "    }\n",
       "</style>\n",
       "<table border=\"1\" class=\"dataframe\">\n",
       "  <thead>\n",
       "    <tr style=\"text-align: right;\">\n",
       "      <th></th>\n",
       "      <th>PassengerId</th>\n",
       "      <th>Survived</th>\n",
       "      <th>Pclass</th>\n",
       "      <th>Name</th>\n",
       "      <th>Sex</th>\n",
       "      <th>Age</th>\n",
       "      <th>SibSp</th>\n",
       "      <th>Parch</th>\n",
       "      <th>Ticket</th>\n",
       "      <th>Fare</th>\n",
       "      <th>Cabin</th>\n",
       "      <th>Embarked</th>\n",
       "    </tr>\n",
       "  </thead>\n",
       "  <tbody>\n",
       "    <tr>\n",
       "      <th>0</th>\n",
       "      <td>1</td>\n",
       "      <td>0</td>\n",
       "      <td>3</td>\n",
       "      <td>Braund, Mr. Owen Harris</td>\n",
       "      <td>male</td>\n",
       "      <td>22.0</td>\n",
       "      <td>1</td>\n",
       "      <td>0</td>\n",
       "      <td>A/5 21171</td>\n",
       "      <td>7.2500</td>\n",
       "      <td>NaN</td>\n",
       "      <td>S</td>\n",
       "    </tr>\n",
       "    <tr>\n",
       "      <th>1</th>\n",
       "      <td>2</td>\n",
       "      <td>1</td>\n",
       "      <td>1</td>\n",
       "      <td>Cumings, Mrs. John Bradley (Florence Briggs Th...</td>\n",
       "      <td>female</td>\n",
       "      <td>38.0</td>\n",
       "      <td>1</td>\n",
       "      <td>0</td>\n",
       "      <td>PC 17599</td>\n",
       "      <td>71.2833</td>\n",
       "      <td>C85</td>\n",
       "      <td>C</td>\n",
       "    </tr>\n",
       "    <tr>\n",
       "      <th>2</th>\n",
       "      <td>3</td>\n",
       "      <td>1</td>\n",
       "      <td>3</td>\n",
       "      <td>Heikkinen, Miss. Laina</td>\n",
       "      <td>female</td>\n",
       "      <td>26.0</td>\n",
       "      <td>0</td>\n",
       "      <td>0</td>\n",
       "      <td>STON/O2. 3101282</td>\n",
       "      <td>7.9250</td>\n",
       "      <td>NaN</td>\n",
       "      <td>S</td>\n",
       "    </tr>\n",
       "    <tr>\n",
       "      <th>3</th>\n",
       "      <td>4</td>\n",
       "      <td>1</td>\n",
       "      <td>1</td>\n",
       "      <td>Futrelle, Mrs. Jacques Heath (Lily May Peel)</td>\n",
       "      <td>female</td>\n",
       "      <td>35.0</td>\n",
       "      <td>1</td>\n",
       "      <td>0</td>\n",
       "      <td>113803</td>\n",
       "      <td>53.1000</td>\n",
       "      <td>C123</td>\n",
       "      <td>S</td>\n",
       "    </tr>\n",
       "    <tr>\n",
       "      <th>4</th>\n",
       "      <td>5</td>\n",
       "      <td>0</td>\n",
       "      <td>3</td>\n",
       "      <td>Allen, Mr. William Henry</td>\n",
       "      <td>male</td>\n",
       "      <td>35.0</td>\n",
       "      <td>0</td>\n",
       "      <td>0</td>\n",
       "      <td>373450</td>\n",
       "      <td>8.0500</td>\n",
       "      <td>NaN</td>\n",
       "      <td>S</td>\n",
       "    </tr>\n",
       "  </tbody>\n",
       "</table>\n",
       "</div>"
      ],
      "text/plain": [
       "   PassengerId  Survived  Pclass  \\\n",
       "0            1         0       3   \n",
       "1            2         1       1   \n",
       "2            3         1       3   \n",
       "3            4         1       1   \n",
       "4            5         0       3   \n",
       "\n",
       "                                                Name     Sex   Age  SibSp  \\\n",
       "0                            Braund, Mr. Owen Harris    male  22.0      1   \n",
       "1  Cumings, Mrs. John Bradley (Florence Briggs Th...  female  38.0      1   \n",
       "2                             Heikkinen, Miss. Laina  female  26.0      0   \n",
       "3       Futrelle, Mrs. Jacques Heath (Lily May Peel)  female  35.0      1   \n",
       "4                           Allen, Mr. William Henry    male  35.0      0   \n",
       "\n",
       "   Parch            Ticket     Fare Cabin Embarked  \n",
       "0      0         A/5 21171   7.2500   NaN        S  \n",
       "1      0          PC 17599  71.2833   C85        C  \n",
       "2      0  STON/O2. 3101282   7.9250   NaN        S  \n",
       "3      0            113803  53.1000  C123        S  \n",
       "4      0            373450   8.0500   NaN        S  "
      ]
     },
     "execution_count": 7,
     "metadata": {},
     "output_type": "execute_result"
    }
   ],
   "source": [
    "train.head(5)"
   ]
  },
  {
   "cell_type": "code",
   "execution_count": 8,
   "metadata": {},
   "outputs": [
    {
     "data": {
      "text/html": [
       "<div>\n",
       "<style scoped>\n",
       "    .dataframe tbody tr th:only-of-type {\n",
       "        vertical-align: middle;\n",
       "    }\n",
       "\n",
       "    .dataframe tbody tr th {\n",
       "        vertical-align: top;\n",
       "    }\n",
       "\n",
       "    .dataframe thead th {\n",
       "        text-align: right;\n",
       "    }\n",
       "</style>\n",
       "<table border=\"1\" class=\"dataframe\">\n",
       "  <thead>\n",
       "    <tr style=\"text-align: right;\">\n",
       "      <th></th>\n",
       "      <th>Age</th>\n",
       "      <th>Cabin</th>\n",
       "      <th>Embarked</th>\n",
       "      <th>Fare</th>\n",
       "      <th>Name</th>\n",
       "      <th>Parch</th>\n",
       "      <th>PassengerId</th>\n",
       "      <th>Pclass</th>\n",
       "      <th>Sex</th>\n",
       "      <th>SibSp</th>\n",
       "      <th>Survived</th>\n",
       "      <th>Ticket</th>\n",
       "    </tr>\n",
       "  </thead>\n",
       "  <tbody>\n",
       "    <tr>\n",
       "      <th>0</th>\n",
       "      <td>22.0</td>\n",
       "      <td>NaN</td>\n",
       "      <td>S</td>\n",
       "      <td>7.2500</td>\n",
       "      <td>Braund, Mr. Owen Harris</td>\n",
       "      <td>0</td>\n",
       "      <td>1</td>\n",
       "      <td>3</td>\n",
       "      <td>male</td>\n",
       "      <td>1</td>\n",
       "      <td>0.0</td>\n",
       "      <td>A/5 21171</td>\n",
       "    </tr>\n",
       "    <tr>\n",
       "      <th>1</th>\n",
       "      <td>38.0</td>\n",
       "      <td>C85</td>\n",
       "      <td>C</td>\n",
       "      <td>71.2833</td>\n",
       "      <td>Cumings, Mrs. John Bradley (Florence Briggs Th...</td>\n",
       "      <td>0</td>\n",
       "      <td>2</td>\n",
       "      <td>1</td>\n",
       "      <td>female</td>\n",
       "      <td>1</td>\n",
       "      <td>1.0</td>\n",
       "      <td>PC 17599</td>\n",
       "    </tr>\n",
       "    <tr>\n",
       "      <th>2</th>\n",
       "      <td>26.0</td>\n",
       "      <td>NaN</td>\n",
       "      <td>S</td>\n",
       "      <td>7.9250</td>\n",
       "      <td>Heikkinen, Miss. Laina</td>\n",
       "      <td>0</td>\n",
       "      <td>3</td>\n",
       "      <td>3</td>\n",
       "      <td>female</td>\n",
       "      <td>0</td>\n",
       "      <td>1.0</td>\n",
       "      <td>STON/O2. 3101282</td>\n",
       "    </tr>\n",
       "    <tr>\n",
       "      <th>3</th>\n",
       "      <td>35.0</td>\n",
       "      <td>C123</td>\n",
       "      <td>S</td>\n",
       "      <td>53.1000</td>\n",
       "      <td>Futrelle, Mrs. Jacques Heath (Lily May Peel)</td>\n",
       "      <td>0</td>\n",
       "      <td>4</td>\n",
       "      <td>1</td>\n",
       "      <td>female</td>\n",
       "      <td>1</td>\n",
       "      <td>1.0</td>\n",
       "      <td>113803</td>\n",
       "    </tr>\n",
       "    <tr>\n",
       "      <th>4</th>\n",
       "      <td>35.0</td>\n",
       "      <td>NaN</td>\n",
       "      <td>S</td>\n",
       "      <td>8.0500</td>\n",
       "      <td>Allen, Mr. William Henry</td>\n",
       "      <td>0</td>\n",
       "      <td>5</td>\n",
       "      <td>3</td>\n",
       "      <td>male</td>\n",
       "      <td>0</td>\n",
       "      <td>0.0</td>\n",
       "      <td>373450</td>\n",
       "    </tr>\n",
       "  </tbody>\n",
       "</table>\n",
       "</div>"
      ],
      "text/plain": [
       "    Age Cabin Embarked     Fare  \\\n",
       "0  22.0   NaN        S   7.2500   \n",
       "1  38.0   C85        C  71.2833   \n",
       "2  26.0   NaN        S   7.9250   \n",
       "3  35.0  C123        S  53.1000   \n",
       "4  35.0   NaN        S   8.0500   \n",
       "\n",
       "                                                Name  Parch  PassengerId  \\\n",
       "0                            Braund, Mr. Owen Harris      0            1   \n",
       "1  Cumings, Mrs. John Bradley (Florence Briggs Th...      0            2   \n",
       "2                             Heikkinen, Miss. Laina      0            3   \n",
       "3       Futrelle, Mrs. Jacques Heath (Lily May Peel)      0            4   \n",
       "4                           Allen, Mr. William Henry      0            5   \n",
       "\n",
       "   Pclass     Sex  SibSp  Survived            Ticket  \n",
       "0       3    male      1       0.0         A/5 21171  \n",
       "1       1  female      1       1.0          PC 17599  \n",
       "2       3  female      0       1.0  STON/O2. 3101282  \n",
       "3       1  female      1       1.0            113803  \n",
       "4       3    male      0       0.0            373450  "
      ]
     },
     "execution_count": 8,
     "metadata": {},
     "output_type": "execute_result"
    }
   ],
   "source": [
    "# Combine Train and Test data\n",
    "data=train.append(test)\n",
    "data.head()"
   ]
  },
  {
   "cell_type": "code",
   "execution_count": 9,
   "metadata": {},
   "outputs": [
    {
     "data": {
      "text/html": [
       "<div>\n",
       "<style scoped>\n",
       "    .dataframe tbody tr th:only-of-type {\n",
       "        vertical-align: middle;\n",
       "    }\n",
       "\n",
       "    .dataframe tbody tr th {\n",
       "        vertical-align: top;\n",
       "    }\n",
       "\n",
       "    .dataframe thead th {\n",
       "        text-align: right;\n",
       "    }\n",
       "</style>\n",
       "<table border=\"1\" class=\"dataframe\">\n",
       "  <thead>\n",
       "    <tr style=\"text-align: right;\">\n",
       "      <th></th>\n",
       "      <th>Age</th>\n",
       "      <th>Cabin</th>\n",
       "      <th>Embarked</th>\n",
       "      <th>Fare</th>\n",
       "      <th>Name</th>\n",
       "      <th>Parch</th>\n",
       "      <th>PassengerId</th>\n",
       "      <th>Pclass</th>\n",
       "      <th>Sex</th>\n",
       "      <th>SibSp</th>\n",
       "      <th>Survived</th>\n",
       "      <th>Ticket</th>\n",
       "    </tr>\n",
       "  </thead>\n",
       "  <tbody>\n",
       "    <tr>\n",
       "      <th>0</th>\n",
       "      <td>22.0</td>\n",
       "      <td>NaN</td>\n",
       "      <td>S</td>\n",
       "      <td>7.2500</td>\n",
       "      <td>Braund, Mr. Owen Harris</td>\n",
       "      <td>0</td>\n",
       "      <td>1</td>\n",
       "      <td>3</td>\n",
       "      <td>male</td>\n",
       "      <td>1</td>\n",
       "      <td>0.0</td>\n",
       "      <td>A/5 21171</td>\n",
       "    </tr>\n",
       "    <tr>\n",
       "      <th>1</th>\n",
       "      <td>38.0</td>\n",
       "      <td>C85</td>\n",
       "      <td>C</td>\n",
       "      <td>71.2833</td>\n",
       "      <td>Cumings, Mrs. John Bradley (Florence Briggs Th...</td>\n",
       "      <td>0</td>\n",
       "      <td>2</td>\n",
       "      <td>1</td>\n",
       "      <td>female</td>\n",
       "      <td>1</td>\n",
       "      <td>1.0</td>\n",
       "      <td>PC 17599</td>\n",
       "    </tr>\n",
       "    <tr>\n",
       "      <th>2</th>\n",
       "      <td>26.0</td>\n",
       "      <td>NaN</td>\n",
       "      <td>S</td>\n",
       "      <td>7.9250</td>\n",
       "      <td>Heikkinen, Miss. Laina</td>\n",
       "      <td>0</td>\n",
       "      <td>3</td>\n",
       "      <td>3</td>\n",
       "      <td>female</td>\n",
       "      <td>0</td>\n",
       "      <td>1.0</td>\n",
       "      <td>STON/O2. 3101282</td>\n",
       "    </tr>\n",
       "    <tr>\n",
       "      <th>3</th>\n",
       "      <td>35.0</td>\n",
       "      <td>C123</td>\n",
       "      <td>S</td>\n",
       "      <td>53.1000</td>\n",
       "      <td>Futrelle, Mrs. Jacques Heath (Lily May Peel)</td>\n",
       "      <td>0</td>\n",
       "      <td>4</td>\n",
       "      <td>1</td>\n",
       "      <td>female</td>\n",
       "      <td>1</td>\n",
       "      <td>1.0</td>\n",
       "      <td>113803</td>\n",
       "    </tr>\n",
       "    <tr>\n",
       "      <th>4</th>\n",
       "      <td>35.0</td>\n",
       "      <td>NaN</td>\n",
       "      <td>S</td>\n",
       "      <td>8.0500</td>\n",
       "      <td>Allen, Mr. William Henry</td>\n",
       "      <td>0</td>\n",
       "      <td>5</td>\n",
       "      <td>3</td>\n",
       "      <td>male</td>\n",
       "      <td>0</td>\n",
       "      <td>0.0</td>\n",
       "      <td>373450</td>\n",
       "    </tr>\n",
       "  </tbody>\n",
       "</table>\n",
       "</div>"
      ],
      "text/plain": [
       "    Age Cabin Embarked     Fare  \\\n",
       "0  22.0   NaN        S   7.2500   \n",
       "1  38.0   C85        C  71.2833   \n",
       "2  26.0   NaN        S   7.9250   \n",
       "3  35.0  C123        S  53.1000   \n",
       "4  35.0   NaN        S   8.0500   \n",
       "\n",
       "                                                Name  Parch  PassengerId  \\\n",
       "0                            Braund, Mr. Owen Harris      0            1   \n",
       "1  Cumings, Mrs. John Bradley (Florence Briggs Th...      0            2   \n",
       "2                             Heikkinen, Miss. Laina      0            3   \n",
       "3       Futrelle, Mrs. Jacques Heath (Lily May Peel)      0            4   \n",
       "4                           Allen, Mr. William Henry      0            5   \n",
       "\n",
       "   Pclass     Sex  SibSp  Survived            Ticket  \n",
       "0       3    male      1       0.0         A/5 21171  \n",
       "1       1  female      1       1.0          PC 17599  \n",
       "2       3  female      0       1.0  STON/O2. 3101282  \n",
       "3       1  female      1       1.0            113803  \n",
       "4       3    male      0       0.0            373450  "
      ]
     },
     "execution_count": 9,
     "metadata": {},
     "output_type": "execute_result"
    }
   ],
   "source": [
    "# Reset index\n",
    "data.reset_index(inplace=True,drop=True)\n",
    "data.head()"
   ]
  },
  {
   "cell_type": "code",
   "execution_count": 10,
   "metadata": {},
   "outputs": [
    {
     "data": {
      "text/plain": [
       "'Survivrd:342   vs.    Not Survivrd:549'"
      ]
     },
     "execution_count": 10,
     "metadata": {},
     "output_type": "execute_result"
    },
    {
     "data": {
      "image/png": "[encoded data removed]",
      "text/plain": [
       "<matplotlib.figure.Figure at 0x109560518>"
      ]
     },
     "metadata": {},
     "output_type": "display_data"
    }
   ],
   "source": [
    "sns.countplot(data['Survived'])\n",
    "data1='Survivrd:' + str(sum(data['Survived']==1)) +'   vs.    Not Survivrd:' + str(sum(data['Survived']==0))\n",
    "data1"
   ]
  },
  {
   "cell_type": "code",
   "execution_count": 11,
   "metadata": {},
   "outputs": [
    {
     "data": {
      "text/html": [
       "<div>\n",
       "<style scoped>\n",
       "    .dataframe tbody tr th:only-of-type {\n",
       "        vertical-align: middle;\n",
       "    }\n",
       "\n",
       "    .dataframe tbody tr th {\n",
       "        vertical-align: top;\n",
       "    }\n",
       "\n",
       "    .dataframe thead th {\n",
       "        text-align: right;\n",
       "    }\n",
       "</style>\n",
       "<table border=\"1\" class=\"dataframe\">\n",
       "  <thead>\n",
       "    <tr style=\"text-align: right;\">\n",
       "      <th></th>\n",
       "      <th>Survived</th>\n",
       "    </tr>\n",
       "    <tr>\n",
       "      <th>Pclass</th>\n",
       "      <th></th>\n",
       "    </tr>\n",
       "  </thead>\n",
       "  <tbody>\n",
       "    <tr>\n",
       "      <th>1</th>\n",
       "      <td>0.630</td>\n",
       "    </tr>\n",
       "    <tr>\n",
       "      <th>2</th>\n",
       "      <td>0.473</td>\n",
       "    </tr>\n",
       "    <tr>\n",
       "      <th>3</th>\n",
       "      <td>0.242</td>\n",
       "    </tr>\n",
       "  </tbody>\n",
       "</table>\n",
       "</div>"
      ],
      "text/plain": [
       "        Survived\n",
       "Pclass          \n",
       "1          0.630\n",
       "2          0.473\n",
       "3          0.242"
      ]
     },
     "execution_count": 11,
     "metadata": {},
     "output_type": "execute_result"
    },
    {
     "data": {
      "image/png": "[encoded data removed]",
      "text/plain": [
       "<matplotlib.figure.Figure at 0x10bfdacf8>"
      ]
     },
     "metadata": {},
     "output_type": "display_data"
    }
   ],
   "source": [
    "sns.countplot(data['Pclass'],hue=data['Survived'])\n",
    "data[['Pclass','Survived']].groupby(['Pclass']).mean().round(3)"
   ]
  },
  {
   "cell_type": "code",
   "execution_count": 12,
   "metadata": {},
   "outputs": [
    {
     "data": {
      "text/html": [
       "<div>\n",
       "<style scoped>\n",
       "    .dataframe tbody tr th:only-of-type {\n",
       "        vertical-align: middle;\n",
       "    }\n",
       "\n",
       "    .dataframe tbody tr th {\n",
       "        vertical-align: top;\n",
       "    }\n",
       "\n",
       "    .dataframe thead th {\n",
       "        text-align: right;\n",
       "    }\n",
       "</style>\n",
       "<table border=\"1\" class=\"dataframe\">\n",
       "  <thead>\n",
       "    <tr style=\"text-align: right;\">\n",
       "      <th></th>\n",
       "      <th>Survived</th>\n",
       "    </tr>\n",
       "    <tr>\n",
       "      <th>Sex</th>\n",
       "      <th></th>\n",
       "    </tr>\n",
       "  </thead>\n",
       "  <tbody>\n",
       "    <tr>\n",
       "      <th>female</th>\n",
       "      <td>0.742</td>\n",
       "    </tr>\n",
       "    <tr>\n",
       "      <th>male</th>\n",
       "      <td>0.189</td>\n",
       "    </tr>\n",
       "  </tbody>\n",
       "</table>\n",
       "</div>"
      ],
      "text/plain": [
       "        Survived\n",
       "Sex             \n",
       "female     0.742\n",
       "male       0.189"
      ]
     },
     "execution_count": 12,
     "metadata": {},
     "output_type": "execute_result"
    },
    {
     "data": {
      "image/png": "[encoded data removed]",
      "text/plain": [
       "<matplotlib.figure.Figure at 0x10ae67a20>"
      ]
     },
     "metadata": {},
     "output_type": "display_data"
    }
   ],
   "source": [
    "sns.countplot(data['Sex'],hue=data['Survived'])\n",
    "data[['Sex','Survived']].groupby(['Sex']).mean().round(3)"
   ]
  },
  {
   "cell_type": "code",
   "execution_count": 13,
   "metadata": {},
   "outputs": [
    {
     "data": {
      "text/plain": [
       "<matplotlib.axes._subplots.AxesSubplot at 0x10ae8f208>"
      ]
     },
     "execution_count": 13,
     "metadata": {},
     "output_type": "execute_result"
    },
    {
     "data": {
      "image/png": "[encoded data removed]",
      "text/plain": [
       "<matplotlib.figure.Figure at 0x10a571a58>"
      ]
     },
     "metadata": {},
     "output_type": "display_data"
    }
   ],
   "source": [
    "sns.countplot(data['Embarked'],hue=data['Survived'])"
   ]
  },
  {
   "cell_type": "code",
   "execution_count": 14,
   "metadata": {},
   "outputs": [
    {
     "data": {
      "text/plain": [
       "<seaborn.axisgrid.FacetGrid at 0x10c093780>"
      ]
     },
     "execution_count": 14,
     "metadata": {},
     "output_type": "execute_result"
    },
    {
     "data": {
      "image/png": "[encoded data removed]",
      "text/plain": [
       "<matplotlib.figure.Figure at 0x10c093f98>"
      ]
     },
     "metadata": {},
     "output_type": "display_data"
    }
   ],
   "source": [
    "g=sns.FacetGrid(data,col='Survived')\n",
    "g.map(sns.distplot,'Age',kde=False)"
   ]
  },
  {
   "cell_type": "code",
   "execution_count": 15,
   "metadata": {},
   "outputs": [
    {
     "data": {
      "text/plain": [
       "<seaborn.axisgrid.FacetGrid at 0x114cc7240>"
      ]
     },
     "execution_count": 15,
     "metadata": {},
     "output_type": "execute_result"
    },
    {
     "data": {
      "image/png": "[encoded data removed]",
      "text/plain": [
       "<matplotlib.figure.Figure at 0x114cd0f60>"
      ]
     },
     "metadata": {},
     "output_type": "display_data"
    }
   ],
   "source": [
    "g=sns.FacetGrid(data,col='Survived')\n",
    "g.map(sns.distplot,'Fare',kde=False)"
   ]
  },
  {
   "cell_type": "code",
   "execution_count": 16,
   "metadata": {},
   "outputs": [
    {
     "data": {
      "text/plain": [
       "<seaborn.axisgrid.FacetGrid at 0x114f2c198>"
      ]
     },
     "execution_count": 16,
     "metadata": {},
     "output_type": "execute_result"
    },
    {
     "data": {
      "image/png": "[encoded data removed]",
      "text/plain": [
       "<matplotlib.figure.Figure at 0x114f37f60>"
      ]
     },
     "metadata": {},
     "output_type": "display_data"
    }
   ],
   "source": [
    "g=sns.FacetGrid(data,col='Survived')\n",
    "g.map(sns.distplot,'Parch',kde=False)"
   ]
  },
  {
   "cell_type": "code",
   "execution_count": 17,
   "metadata": {},
   "outputs": [
    {
     "data": {
      "text/plain": [
       "<seaborn.axisgrid.FacetGrid at 0x10ad89198>"
      ]
     },
     "execution_count": 17,
     "metadata": {},
     "output_type": "execute_result"
    },
    {
     "data": {
      "image/png": "[encoded data removed]",
      "text/plain": [
       "<matplotlib.figure.Figure at 0x114e595c0>"
      ]
     },
     "metadata": {},
     "output_type": "display_data"
    }
   ],
   "source": [
    "g=sns.FacetGrid(data,col='Survived')\n",
    "g.map(sns.distplot,'SibSp',kde=False)"
   ]
  },
  {
   "cell_type": "code",
   "execution_count": 18,
   "metadata": {},
   "outputs": [],
   "source": [
    "data['Family_Size'] = data['Parch'] + data['SibSp']"
   ]
  },
  {
   "cell_type": "code",
   "execution_count": 19,
   "metadata": {},
   "outputs": [
    {
     "data": {
      "text/plain": [
       "<seaborn.axisgrid.FacetGrid at 0x10ad81400>"
      ]
     },
     "execution_count": 19,
     "metadata": {},
     "output_type": "execute_result"
    },
    {
     "data": {
      "image/png": "[encoded data removed]",
      "text/plain": [
       "<matplotlib.figure.Figure at 0x11512a278>"
      ]
     },
     "metadata": {},
     "output_type": "display_data"
    }
   ],
   "source": [
    "g = sns.FacetGrid(data, col='Survived')\n",
    "g.map(sns.distplot, 'Family_Size', kde=False)"
   ]
  },
  {
   "cell_type": "code",
   "execution_count": 20,
   "metadata": {},
   "outputs": [],
   "source": [
    "#Feature Engineering\n",
    "data['Title1']=data['Name'].str.split(\",\",expand=True)[1]"
   ]
  },
  {
   "cell_type": "code",
   "execution_count": 21,
   "metadata": {},
   "outputs": [
    {
     "data": {
      "text/html": [
       "<div>\n",
       "<style scoped>\n",
       "    .dataframe tbody tr th:only-of-type {\n",
       "        vertical-align: middle;\n",
       "    }\n",
       "\n",
       "    .dataframe tbody tr th {\n",
       "        vertical-align: top;\n",
       "    }\n",
       "\n",
       "    .dataframe thead th {\n",
       "        text-align: right;\n",
       "    }\n",
       "</style>\n",
       "<table border=\"1\" class=\"dataframe\">\n",
       "  <thead>\n",
       "    <tr style=\"text-align: right;\">\n",
       "      <th></th>\n",
       "      <th>0</th>\n",
       "      <th>1</th>\n",
       "    </tr>\n",
       "  </thead>\n",
       "  <tbody>\n",
       "    <tr>\n",
       "      <th>0</th>\n",
       "      <td>Braund</td>\n",
       "      <td>Mr. Owen Harris</td>\n",
       "    </tr>\n",
       "    <tr>\n",
       "      <th>1</th>\n",
       "      <td>Cumings</td>\n",
       "      <td>Mrs. John Bradley (Florence Briggs Thayer)</td>\n",
       "    </tr>\n",
       "    <tr>\n",
       "      <th>2</th>\n",
       "      <td>Heikkinen</td>\n",
       "      <td>Miss. Laina</td>\n",
       "    </tr>\n",
       "  </tbody>\n",
       "</table>\n",
       "</div>"
      ],
      "text/plain": [
       "           0                                           1\n",
       "0     Braund                             Mr. Owen Harris\n",
       "1    Cumings  Mrs. John Bradley (Florence Briggs Thayer)\n",
       "2  Heikkinen                                 Miss. Laina"
      ]
     },
     "execution_count": 21,
     "metadata": {},
     "output_type": "execute_result"
    }
   ],
   "source": [
    "data['Name'].str.split(\", \",expand=True).head(3)"
   ]
  },
  {
   "cell_type": "code",
   "execution_count": 22,
   "metadata": {},
   "outputs": [],
   "source": [
    "data['Title1'] = data['Title1'].str.split(\".\", expand=True)[0]\n"
   ]
  },
  {
   "cell_type": "code",
   "execution_count": 23,
   "metadata": {},
   "outputs": [
    {
     "data": {
      "text/plain": [
       "0       Mr\n",
       "1      Mrs\n",
       "2     Miss\n",
       "Name: Title1, dtype: object"
      ]
     },
     "execution_count": 23,
     "metadata": {},
     "output_type": "execute_result"
    }
   ],
   "source": [
    "data['Title1'].head(3)"
   ]
  },
  {
   "cell_type": "code",
   "execution_count": 24,
   "metadata": {},
   "outputs": [
    {
     "data": {
      "text/plain": [
       "array([' Mr', ' Mrs', ' Miss', ' Master', ' Don', ' Rev', ' Dr', ' Mme',\n",
       "       ' Ms', ' Major', ' Lady', ' Sir', ' Mlle', ' Col', ' Capt',\n",
       "       ' the Countess', ' Jonkheer', ' Dona'], dtype=object)"
      ]
     },
     "execution_count": 24,
     "metadata": {},
     "output_type": "execute_result"
    }
   ],
   "source": [
    "data['Title1'].unique()"
   ]
  },
  {
   "cell_type": "code",
   "execution_count": 25,
   "metadata": {},
   "outputs": [
    {
     "data": {
      "text/html": [
       "<style  type=\"text/css\" >\n",
       "    #T_ddf265dc_24bf_11e9_8a1b_34363b64d44crow0_col0 {\n",
       "            background-color:  #ffff66;\n",
       "        }    #T_ddf265dc_24bf_11e9_8a1b_34363b64d44crow0_col1 {\n",
       "            background-color:  #ffff66;\n",
       "        }    #T_ddf265dc_24bf_11e9_8a1b_34363b64d44crow0_col2 {\n",
       "            background-color:  #ffff66;\n",
       "        }    #T_ddf265dc_24bf_11e9_8a1b_34363b64d44crow0_col3 {\n",
       "            background-color:  #008066;\n",
       "        }    #T_ddf265dc_24bf_11e9_8a1b_34363b64d44crow0_col4 {\n",
       "            background-color:  #ffff66;\n",
       "        }    #T_ddf265dc_24bf_11e9_8a1b_34363b64d44crow0_col5 {\n",
       "            background-color:  #ffff66;\n",
       "        }    #T_ddf265dc_24bf_11e9_8a1b_34363b64d44crow0_col6 {\n",
       "            background-color:  #008066;\n",
       "        }    #T_ddf265dc_24bf_11e9_8a1b_34363b64d44crow0_col7 {\n",
       "            background-color:  #ffff66;\n",
       "        }    #T_ddf265dc_24bf_11e9_8a1b_34363b64d44crow0_col8 {\n",
       "            background-color:  #ffff66;\n",
       "        }    #T_ddf265dc_24bf_11e9_8a1b_34363b64d44crow0_col9 {\n",
       "            background-color:  #008066;\n",
       "        }    #T_ddf265dc_24bf_11e9_8a1b_34363b64d44crow0_col10 {\n",
       "            background-color:  #008066;\n",
       "        }    #T_ddf265dc_24bf_11e9_8a1b_34363b64d44crow0_col11 {\n",
       "            background-color:  #008066;\n",
       "        }    #T_ddf265dc_24bf_11e9_8a1b_34363b64d44crow0_col12 {\n",
       "            background-color:  #ffff66;\n",
       "        }    #T_ddf265dc_24bf_11e9_8a1b_34363b64d44crow0_col13 {\n",
       "            background-color:  #008066;\n",
       "        }    #T_ddf265dc_24bf_11e9_8a1b_34363b64d44crow0_col14 {\n",
       "            background-color:  #008066;\n",
       "        }    #T_ddf265dc_24bf_11e9_8a1b_34363b64d44crow0_col15 {\n",
       "            background-color:  #ffff66;\n",
       "        }    #T_ddf265dc_24bf_11e9_8a1b_34363b64d44crow0_col16 {\n",
       "            background-color:  #ffff66;\n",
       "        }    #T_ddf265dc_24bf_11e9_8a1b_34363b64d44crow0_col17 {\n",
       "            background-color:  #008066;\n",
       "        }    #T_ddf265dc_24bf_11e9_8a1b_34363b64d44crow1_col0 {\n",
       "            background-color:  #008066;\n",
       "        }    #T_ddf265dc_24bf_11e9_8a1b_34363b64d44crow1_col1 {\n",
       "            background-color:  #008066;\n",
       "        }    #T_ddf265dc_24bf_11e9_8a1b_34363b64d44crow1_col2 {\n",
       "            background-color:  #008066;\n",
       "        }    #T_ddf265dc_24bf_11e9_8a1b_34363b64d44crow1_col3 {\n",
       "            background-color:  #ffff66;\n",
       "        }    #T_ddf265dc_24bf_11e9_8a1b_34363b64d44crow1_col4 {\n",
       "            background-color:  #008066;\n",
       "        }    #T_ddf265dc_24bf_11e9_8a1b_34363b64d44crow1_col5 {\n",
       "            background-color:  #008066;\n",
       "        }    #T_ddf265dc_24bf_11e9_8a1b_34363b64d44crow1_col6 {\n",
       "            background-color:  #ffff66;\n",
       "        }    #T_ddf265dc_24bf_11e9_8a1b_34363b64d44crow1_col7 {\n",
       "            background-color:  #008066;\n",
       "        }    #T_ddf265dc_24bf_11e9_8a1b_34363b64d44crow1_col8 {\n",
       "            background-color:  #008066;\n",
       "        }    #T_ddf265dc_24bf_11e9_8a1b_34363b64d44crow1_col9 {\n",
       "            background-color:  #ffff66;\n",
       "        }    #T_ddf265dc_24bf_11e9_8a1b_34363b64d44crow1_col10 {\n",
       "            background-color:  #ffff66;\n",
       "        }    #T_ddf265dc_24bf_11e9_8a1b_34363b64d44crow1_col11 {\n",
       "            background-color:  #ffff66;\n",
       "        }    #T_ddf265dc_24bf_11e9_8a1b_34363b64d44crow1_col12 {\n",
       "            background-color:  #008066;\n",
       "        }    #T_ddf265dc_24bf_11e9_8a1b_34363b64d44crow1_col13 {\n",
       "            background-color:  #ffff66;\n",
       "        }    #T_ddf265dc_24bf_11e9_8a1b_34363b64d44crow1_col14 {\n",
       "            background-color:  #ffff66;\n",
       "        }    #T_ddf265dc_24bf_11e9_8a1b_34363b64d44crow1_col15 {\n",
       "            background-color:  #008066;\n",
       "        }    #T_ddf265dc_24bf_11e9_8a1b_34363b64d44crow1_col16 {\n",
       "            background-color:  #008066;\n",
       "        }    #T_ddf265dc_24bf_11e9_8a1b_34363b64d44crow1_col17 {\n",
       "            background-color:  #ffff66;\n",
       "        }</style>  \n",
       "<table id=\"T_ddf265dc_24bf_11e9_8a1b_34363b64d44c\" > \n",
       "<thead>    <tr> \n",
       "        <th class=\"index_name level0\" >Title1</th> \n",
       "        <th class=\"col_heading level0 col0\" > Capt</th> \n",
       "        <th class=\"col_heading level0 col1\" > Col</th> \n",
       "        <th class=\"col_heading level0 col2\" > Don</th> \n",
       "        <th class=\"col_heading level0 col3\" > Dona</th> \n",
       "        <th class=\"col_heading level0 col4\" > Dr</th> \n",
       "        <th class=\"col_heading level0 col5\" > Jonkheer</th> \n",
       "        <th class=\"col_heading level0 col6\" > Lady</th> \n",
       "        <th class=\"col_heading level0 col7\" > Major</th> \n",
       "        <th class=\"col_heading level0 col8\" > Master</th> \n",
       "        <th class=\"col_heading level0 col9\" > Miss</th> \n",
       "        <th class=\"col_heading level0 col10\" > Mlle</th> \n",
       "        <th class=\"col_heading level0 col11\" > Mme</th> \n",
       "        <th class=\"col_heading level0 col12\" > Mr</th> \n",
       "        <th class=\"col_heading level0 col13\" > Mrs</th> \n",
       "        <th class=\"col_heading level0 col14\" > Ms</th> \n",
       "        <th class=\"col_heading level0 col15\" > Rev</th> \n",
       "        <th class=\"col_heading level0 col16\" > Sir</th> \n",
       "        <th class=\"col_heading level0 col17\" > the Countess</th> \n",
       "    </tr>    <tr> \n",
       "        <th class=\"index_name level0\" >Sex</th> \n",
       "        <th class=\"blank\" ></th> \n",
       "        <th class=\"blank\" ></th> \n",
       "        <th class=\"blank\" ></th> \n",
       "        <th class=\"blank\" ></th> \n",
       "        <th class=\"blank\" ></th> \n",
       "        <th class=\"blank\" ></th> \n",
       "        <th class=\"blank\" ></th> \n",
       "        <th class=\"blank\" ></th> \n",
       "        <th class=\"blank\" ></th> \n",
       "        <th class=\"blank\" ></th> \n",
       "        <th class=\"blank\" ></th> \n",
       "        <th class=\"blank\" ></th> \n",
       "        <th class=\"blank\" ></th> \n",
       "        <th class=\"blank\" ></th> \n",
       "        <th class=\"blank\" ></th> \n",
       "        <th class=\"blank\" ></th> \n",
       "        <th class=\"blank\" ></th> \n",
       "        <th class=\"blank\" ></th> \n",
       "    </tr></thead> \n",
       "<tbody>    <tr> \n",
       "        <th id=\"T_ddf265dc_24bf_11e9_8a1b_34363b64d44clevel0_row0\" class=\"row_heading level0 row0\" >female</th> \n",
       "        <td id=\"T_ddf265dc_24bf_11e9_8a1b_34363b64d44crow0_col0\" class=\"data row0 col0\" >0</td> \n",
       "        <td id=\"T_ddf265dc_24bf_11e9_8a1b_34363b64d44crow0_col1\" class=\"data row0 col1\" >0</td> \n",
       "        <td id=\"T_ddf265dc_24bf_11e9_8a1b_34363b64d44crow0_col2\" class=\"data row0 col2\" >0</td> \n",
       "        <td id=\"T_ddf265dc_24bf_11e9_8a1b_34363b64d44crow0_col3\" class=\"data row0 col3\" >1</td> \n",
       "        <td id=\"T_ddf265dc_24bf_11e9_8a1b_34363b64d44crow0_col4\" class=\"data row0 col4\" >1</td> \n",
       "        <td id=\"T_ddf265dc_24bf_11e9_8a1b_34363b64d44crow0_col5\" class=\"data row0 col5\" >0</td> \n",
       "        <td id=\"T_ddf265dc_24bf_11e9_8a1b_34363b64d44crow0_col6\" class=\"data row0 col6\" >1</td> \n",
       "        <td id=\"T_ddf265dc_24bf_11e9_8a1b_34363b64d44crow0_col7\" class=\"data row0 col7\" >0</td> \n",
       "        <td id=\"T_ddf265dc_24bf_11e9_8a1b_34363b64d44crow0_col8\" class=\"data row0 col8\" >0</td> \n",
       "        <td id=\"T_ddf265dc_24bf_11e9_8a1b_34363b64d44crow0_col9\" class=\"data row0 col9\" >260</td> \n",
       "        <td id=\"T_ddf265dc_24bf_11e9_8a1b_34363b64d44crow0_col10\" class=\"data row0 col10\" >2</td> \n",
       "        <td id=\"T_ddf265dc_24bf_11e9_8a1b_34363b64d44crow0_col11\" class=\"data row0 col11\" >1</td> \n",
       "        <td id=\"T_ddf265dc_24bf_11e9_8a1b_34363b64d44crow0_col12\" class=\"data row0 col12\" >0</td> \n",
       "        <td id=\"T_ddf265dc_24bf_11e9_8a1b_34363b64d44crow0_col13\" class=\"data row0 col13\" >197</td> \n",
       "        <td id=\"T_ddf265dc_24bf_11e9_8a1b_34363b64d44crow0_col14\" class=\"data row0 col14\" >2</td> \n",
       "        <td id=\"T_ddf265dc_24bf_11e9_8a1b_34363b64d44crow0_col15\" class=\"data row0 col15\" >0</td> \n",
       "        <td id=\"T_ddf265dc_24bf_11e9_8a1b_34363b64d44crow0_col16\" class=\"data row0 col16\" >0</td> \n",
       "        <td id=\"T_ddf265dc_24bf_11e9_8a1b_34363b64d44crow0_col17\" class=\"data row0 col17\" >1</td> \n",
       "    </tr>    <tr> \n",
       "        <th id=\"T_ddf265dc_24bf_11e9_8a1b_34363b64d44clevel0_row1\" class=\"row_heading level0 row1\" >male</th> \n",
       "        <td id=\"T_ddf265dc_24bf_11e9_8a1b_34363b64d44crow1_col0\" class=\"data row1 col0\" >1</td> \n",
       "        <td id=\"T_ddf265dc_24bf_11e9_8a1b_34363b64d44crow1_col1\" class=\"data row1 col1\" >4</td> \n",
       "        <td id=\"T_ddf265dc_24bf_11e9_8a1b_34363b64d44crow1_col2\" class=\"data row1 col2\" >1</td> \n",
       "        <td id=\"T_ddf265dc_24bf_11e9_8a1b_34363b64d44crow1_col3\" class=\"data row1 col3\" >0</td> \n",
       "        <td id=\"T_ddf265dc_24bf_11e9_8a1b_34363b64d44crow1_col4\" class=\"data row1 col4\" >7</td> \n",
       "        <td id=\"T_ddf265dc_24bf_11e9_8a1b_34363b64d44crow1_col5\" class=\"data row1 col5\" >1</td> \n",
       "        <td id=\"T_ddf265dc_24bf_11e9_8a1b_34363b64d44crow1_col6\" class=\"data row1 col6\" >0</td> \n",
       "        <td id=\"T_ddf265dc_24bf_11e9_8a1b_34363b64d44crow1_col7\" class=\"data row1 col7\" >2</td> \n",
       "        <td id=\"T_ddf265dc_24bf_11e9_8a1b_34363b64d44crow1_col8\" class=\"data row1 col8\" >61</td> \n",
       "        <td id=\"T_ddf265dc_24bf_11e9_8a1b_34363b64d44crow1_col9\" class=\"data row1 col9\" >0</td> \n",
       "        <td id=\"T_ddf265dc_24bf_11e9_8a1b_34363b64d44crow1_col10\" class=\"data row1 col10\" >0</td> \n",
       "        <td id=\"T_ddf265dc_24bf_11e9_8a1b_34363b64d44crow1_col11\" class=\"data row1 col11\" >0</td> \n",
       "        <td id=\"T_ddf265dc_24bf_11e9_8a1b_34363b64d44crow1_col12\" class=\"data row1 col12\" >757</td> \n",
       "        <td id=\"T_ddf265dc_24bf_11e9_8a1b_34363b64d44crow1_col13\" class=\"data row1 col13\" >0</td> \n",
       "        <td id=\"T_ddf265dc_24bf_11e9_8a1b_34363b64d44crow1_col14\" class=\"data row1 col14\" >0</td> \n",
       "        <td id=\"T_ddf265dc_24bf_11e9_8a1b_34363b64d44crow1_col15\" class=\"data row1 col15\" >8</td> \n",
       "        <td id=\"T_ddf265dc_24bf_11e9_8a1b_34363b64d44crow1_col16\" class=\"data row1 col16\" >1</td> \n",
       "        <td id=\"T_ddf265dc_24bf_11e9_8a1b_34363b64d44crow1_col17\" class=\"data row1 col17\" >0</td> \n",
       "    </tr></tbody> \n",
       "</table> "
      ],
      "text/plain": [
       "<pandas.io.formats.style.Styler at 0x115532160>"
      ]
     },
     "execution_count": 25,
     "metadata": {},
     "output_type": "execute_result"
    }
   ],
   "source": [
    "pd.crosstab(data['Title1'],data['Sex']).T.style.background_gradient(cmap='summer_r')"
   ]
  },
  {
   "cell_type": "code",
   "execution_count": 26,
   "metadata": {},
   "outputs": [
    {
     "data": {
      "text/html": [
       "<style  type=\"text/css\" >\n",
       "    #T_ddfee91a_24bf_11e9_8bf4_34363b64d44crow0_col0 {\n",
       "            background-color:  #008066;\n",
       "        }    #T_ddfee91a_24bf_11e9_8bf4_34363b64d44crow0_col1 {\n",
       "            background-color:  #ffff66;\n",
       "        }    #T_ddfee91a_24bf_11e9_8bf4_34363b64d44crow0_col2 {\n",
       "            background-color:  #008066;\n",
       "        }    #T_ddfee91a_24bf_11e9_8bf4_34363b64d44crow0_col3 {\n",
       "            background-color:  #008066;\n",
       "        }    #T_ddfee91a_24bf_11e9_8bf4_34363b64d44crow0_col4 {\n",
       "            background-color:  #008066;\n",
       "        }    #T_ddfee91a_24bf_11e9_8bf4_34363b64d44crow0_col5 {\n",
       "            background-color:  #ffff66;\n",
       "        }    #T_ddfee91a_24bf_11e9_8bf4_34363b64d44crow0_col6 {\n",
       "            background-color:  #ffff66;\n",
       "        }    #T_ddfee91a_24bf_11e9_8bf4_34363b64d44crow0_col7 {\n",
       "            background-color:  #ffff66;\n",
       "        }    #T_ddfee91a_24bf_11e9_8bf4_34363b64d44crow0_col8 {\n",
       "            background-color:  #ffff66;\n",
       "        }    #T_ddfee91a_24bf_11e9_8bf4_34363b64d44crow0_col9 {\n",
       "            background-color:  #ffff66;\n",
       "        }    #T_ddfee91a_24bf_11e9_8bf4_34363b64d44crow0_col10 {\n",
       "            background-color:  #ffff66;\n",
       "        }    #T_ddfee91a_24bf_11e9_8bf4_34363b64d44crow0_col11 {\n",
       "            background-color:  #008066;\n",
       "        }    #T_ddfee91a_24bf_11e9_8bf4_34363b64d44crow0_col12 {\n",
       "            background-color:  #ffff66;\n",
       "        }    #T_ddfee91a_24bf_11e9_8bf4_34363b64d44crow0_col13 {\n",
       "            background-color:  #ffff66;\n",
       "        }    #T_ddfee91a_24bf_11e9_8bf4_34363b64d44crow0_col14 {\n",
       "            background-color:  #008066;\n",
       "        }    #T_ddfee91a_24bf_11e9_8bf4_34363b64d44crow0_col15 {\n",
       "            background-color:  #ffff66;\n",
       "        }    #T_ddfee91a_24bf_11e9_8bf4_34363b64d44crow0_col16 {\n",
       "            background-color:  #ffff66;\n",
       "        }    #T_ddfee91a_24bf_11e9_8bf4_34363b64d44crow1_col0 {\n",
       "            background-color:  #ffff66;\n",
       "        }    #T_ddfee91a_24bf_11e9_8bf4_34363b64d44crow1_col1 {\n",
       "            background-color:  #ffff66;\n",
       "        }    #T_ddfee91a_24bf_11e9_8bf4_34363b64d44crow1_col2 {\n",
       "            background-color:  #ffff66;\n",
       "        }    #T_ddfee91a_24bf_11e9_8bf4_34363b64d44crow1_col3 {\n",
       "            background-color:  #ffff66;\n",
       "        }    #T_ddfee91a_24bf_11e9_8bf4_34363b64d44crow1_col4 {\n",
       "            background-color:  #ffff66;\n",
       "        }    #T_ddfee91a_24bf_11e9_8bf4_34363b64d44crow1_col5 {\n",
       "            background-color:  #008066;\n",
       "        }    #T_ddfee91a_24bf_11e9_8bf4_34363b64d44crow1_col6 {\n",
       "            background-color:  #ffff66;\n",
       "        }    #T_ddfee91a_24bf_11e9_8bf4_34363b64d44crow1_col7 {\n",
       "            background-color:  #008066;\n",
       "        }    #T_ddfee91a_24bf_11e9_8bf4_34363b64d44crow1_col8 {\n",
       "            background-color:  #008066;\n",
       "        }    #T_ddfee91a_24bf_11e9_8bf4_34363b64d44crow1_col9 {\n",
       "            background-color:  #008066;\n",
       "        }    #T_ddfee91a_24bf_11e9_8bf4_34363b64d44crow1_col10 {\n",
       "            background-color:  #008066;\n",
       "        }    #T_ddfee91a_24bf_11e9_8bf4_34363b64d44crow1_col11 {\n",
       "            background-color:  #ffff66;\n",
       "        }    #T_ddfee91a_24bf_11e9_8bf4_34363b64d44crow1_col12 {\n",
       "            background-color:  #008066;\n",
       "        }    #T_ddfee91a_24bf_11e9_8bf4_34363b64d44crow1_col13 {\n",
       "            background-color:  #008066;\n",
       "        }    #T_ddfee91a_24bf_11e9_8bf4_34363b64d44crow1_col14 {\n",
       "            background-color:  #ffff66;\n",
       "        }    #T_ddfee91a_24bf_11e9_8bf4_34363b64d44crow1_col15 {\n",
       "            background-color:  #008066;\n",
       "        }    #T_ddfee91a_24bf_11e9_8bf4_34363b64d44crow1_col16 {\n",
       "            background-color:  #008066;\n",
       "        }</style>  \n",
       "<table id=\"T_ddfee91a_24bf_11e9_8bf4_34363b64d44c\" > \n",
       "<thead>    <tr> \n",
       "        <th class=\"index_name level0\" >Title1</th> \n",
       "        <th class=\"col_heading level0 col0\" > Capt</th> \n",
       "        <th class=\"col_heading level0 col1\" > Col</th> \n",
       "        <th class=\"col_heading level0 col2\" > Don</th> \n",
       "        <th class=\"col_heading level0 col3\" > Dr</th> \n",
       "        <th class=\"col_heading level0 col4\" > Jonkheer</th> \n",
       "        <th class=\"col_heading level0 col5\" > Lady</th> \n",
       "        <th class=\"col_heading level0 col6\" > Major</th> \n",
       "        <th class=\"col_heading level0 col7\" > Master</th> \n",
       "        <th class=\"col_heading level0 col8\" > Miss</th> \n",
       "        <th class=\"col_heading level0 col9\" > Mlle</th> \n",
       "        <th class=\"col_heading level0 col10\" > Mme</th> \n",
       "        <th class=\"col_heading level0 col11\" > Mr</th> \n",
       "        <th class=\"col_heading level0 col12\" > Mrs</th> \n",
       "        <th class=\"col_heading level0 col13\" > Ms</th> \n",
       "        <th class=\"col_heading level0 col14\" > Rev</th> \n",
       "        <th class=\"col_heading level0 col15\" > Sir</th> \n",
       "        <th class=\"col_heading level0 col16\" > the Countess</th> \n",
       "    </tr>    <tr> \n",
       "        <th class=\"index_name level0\" >Survived</th> \n",
       "        <th class=\"blank\" ></th> \n",
       "        <th class=\"blank\" ></th> \n",
       "        <th class=\"blank\" ></th> \n",
       "        <th class=\"blank\" ></th> \n",
       "        <th class=\"blank\" ></th> \n",
       "        <th class=\"blank\" ></th> \n",
       "        <th class=\"blank\" ></th> \n",
       "        <th class=\"blank\" ></th> \n",
       "        <th class=\"blank\" ></th> \n",
       "        <th class=\"blank\" ></th> \n",
       "        <th class=\"blank\" ></th> \n",
       "        <th class=\"blank\" ></th> \n",
       "        <th class=\"blank\" ></th> \n",
       "        <th class=\"blank\" ></th> \n",
       "        <th class=\"blank\" ></th> \n",
       "        <th class=\"blank\" ></th> \n",
       "        <th class=\"blank\" ></th> \n",
       "    </tr></thead> \n",
       "<tbody>    <tr> \n",
       "        <th id=\"T_ddfee91a_24bf_11e9_8bf4_34363b64d44clevel0_row0\" class=\"row_heading level0 row0\" >0.0</th> \n",
       "        <td id=\"T_ddfee91a_24bf_11e9_8bf4_34363b64d44crow0_col0\" class=\"data row0 col0\" >1</td> \n",
       "        <td id=\"T_ddfee91a_24bf_11e9_8bf4_34363b64d44crow0_col1\" class=\"data row0 col1\" >1</td> \n",
       "        <td id=\"T_ddfee91a_24bf_11e9_8bf4_34363b64d44crow0_col2\" class=\"data row0 col2\" >1</td> \n",
       "        <td id=\"T_ddfee91a_24bf_11e9_8bf4_34363b64d44crow0_col3\" class=\"data row0 col3\" >4</td> \n",
       "        <td id=\"T_ddfee91a_24bf_11e9_8bf4_34363b64d44crow0_col4\" class=\"data row0 col4\" >1</td> \n",
       "        <td id=\"T_ddfee91a_24bf_11e9_8bf4_34363b64d44crow0_col5\" class=\"data row0 col5\" >0</td> \n",
       "        <td id=\"T_ddfee91a_24bf_11e9_8bf4_34363b64d44crow0_col6\" class=\"data row0 col6\" >1</td> \n",
       "        <td id=\"T_ddfee91a_24bf_11e9_8bf4_34363b64d44crow0_col7\" class=\"data row0 col7\" >17</td> \n",
       "        <td id=\"T_ddfee91a_24bf_11e9_8bf4_34363b64d44crow0_col8\" class=\"data row0 col8\" >55</td> \n",
       "        <td id=\"T_ddfee91a_24bf_11e9_8bf4_34363b64d44crow0_col9\" class=\"data row0 col9\" >0</td> \n",
       "        <td id=\"T_ddfee91a_24bf_11e9_8bf4_34363b64d44crow0_col10\" class=\"data row0 col10\" >0</td> \n",
       "        <td id=\"T_ddfee91a_24bf_11e9_8bf4_34363b64d44crow0_col11\" class=\"data row0 col11\" >436</td> \n",
       "        <td id=\"T_ddfee91a_24bf_11e9_8bf4_34363b64d44crow0_col12\" class=\"data row0 col12\" >26</td> \n",
       "        <td id=\"T_ddfee91a_24bf_11e9_8bf4_34363b64d44crow0_col13\" class=\"data row0 col13\" >0</td> \n",
       "        <td id=\"T_ddfee91a_24bf_11e9_8bf4_34363b64d44crow0_col14\" class=\"data row0 col14\" >6</td> \n",
       "        <td id=\"T_ddfee91a_24bf_11e9_8bf4_34363b64d44crow0_col15\" class=\"data row0 col15\" >0</td> \n",
       "        <td id=\"T_ddfee91a_24bf_11e9_8bf4_34363b64d44crow0_col16\" class=\"data row0 col16\" >0</td> \n",
       "    </tr>    <tr> \n",
       "        <th id=\"T_ddfee91a_24bf_11e9_8bf4_34363b64d44clevel0_row1\" class=\"row_heading level0 row1\" >1.0</th> \n",
       "        <td id=\"T_ddfee91a_24bf_11e9_8bf4_34363b64d44crow1_col0\" class=\"data row1 col0\" >0</td> \n",
       "        <td id=\"T_ddfee91a_24bf_11e9_8bf4_34363b64d44crow1_col1\" class=\"data row1 col1\" >1</td> \n",
       "        <td id=\"T_ddfee91a_24bf_11e9_8bf4_34363b64d44crow1_col2\" class=\"data row1 col2\" >0</td> \n",
       "        <td id=\"T_ddfee91a_24bf_11e9_8bf4_34363b64d44crow1_col3\" class=\"data row1 col3\" >3</td> \n",
       "        <td id=\"T_ddfee91a_24bf_11e9_8bf4_34363b64d44crow1_col4\" class=\"data row1 col4\" >0</td> \n",
       "        <td id=\"T_ddfee91a_24bf_11e9_8bf4_34363b64d44crow1_col5\" class=\"data row1 col5\" >1</td> \n",
       "        <td id=\"T_ddfee91a_24bf_11e9_8bf4_34363b64d44crow1_col6\" class=\"data row1 col6\" >1</td> \n",
       "        <td id=\"T_ddfee91a_24bf_11e9_8bf4_34363b64d44crow1_col7\" class=\"data row1 col7\" >23</td> \n",
       "        <td id=\"T_ddfee91a_24bf_11e9_8bf4_34363b64d44crow1_col8\" class=\"data row1 col8\" >127</td> \n",
       "        <td id=\"T_ddfee91a_24bf_11e9_8bf4_34363b64d44crow1_col9\" class=\"data row1 col9\" >2</td> \n",
       "        <td id=\"T_ddfee91a_24bf_11e9_8bf4_34363b64d44crow1_col10\" class=\"data row1 col10\" >1</td> \n",
       "        <td id=\"T_ddfee91a_24bf_11e9_8bf4_34363b64d44crow1_col11\" class=\"data row1 col11\" >81</td> \n",
       "        <td id=\"T_ddfee91a_24bf_11e9_8bf4_34363b64d44crow1_col12\" class=\"data row1 col12\" >99</td> \n",
       "        <td id=\"T_ddfee91a_24bf_11e9_8bf4_34363b64d44crow1_col13\" class=\"data row1 col13\" >1</td> \n",
       "        <td id=\"T_ddfee91a_24bf_11e9_8bf4_34363b64d44crow1_col14\" class=\"data row1 col14\" >0</td> \n",
       "        <td id=\"T_ddfee91a_24bf_11e9_8bf4_34363b64d44crow1_col15\" class=\"data row1 col15\" >1</td> \n",
       "        <td id=\"T_ddfee91a_24bf_11e9_8bf4_34363b64d44crow1_col16\" class=\"data row1 col16\" >1</td> \n",
       "    </tr></tbody> \n",
       "</table> "
      ],
      "text/plain": [
       "<pandas.io.formats.style.Styler at 0x10b75fe48>"
      ]
     },
     "execution_count": 26,
     "metadata": {},
     "output_type": "execute_result"
    }
   ],
   "source": [
    "pd.crosstab(data['Title1'],data['Survived']).T.style.background_gradient(cmap='summer_r')"
   ]
  },
  {
   "cell_type": "code",
   "execution_count": 27,
   "metadata": {},
   "outputs": [
    {
     "data": {
      "text/plain": [
       "Title1\n",
       " Capt            70.000000\n",
       " Col             54.000000\n",
       " Don             40.000000\n",
       " Dona            39.000000\n",
       " Dr              43.571429\n",
       " Jonkheer        38.000000\n",
       " Lady            48.000000\n",
       " Major           48.500000\n",
       " Master           5.482642\n",
       " Miss            21.774238\n",
       " Mlle            24.000000\n",
       " Mme             24.000000\n",
       " Mr              32.252151\n",
       " Mrs             36.994118\n",
       " Ms              28.000000\n",
       " Rev             41.250000\n",
       " Sir             49.000000\n",
       " the Countess    33.000000\n",
       "Name: Age, dtype: float64"
      ]
     },
     "execution_count": 27,
     "metadata": {},
     "output_type": "execute_result"
    }
   ],
   "source": [
    "data.groupby(['Title1'])['Age'].mean()"
   ]
  },
  {
   "cell_type": "code",
   "execution_count": 28,
   "metadata": {},
   "outputs": [
    {
     "data": {
      "text/plain": [
       "Title1         Pclass\n",
       " Capt          1         70.000000\n",
       " Col           1         54.000000\n",
       " Don           1         40.000000\n",
       " Dona          1         39.000000\n",
       " Dr            1         45.600000\n",
       "               2         38.500000\n",
       " Jonkheer      1         38.000000\n",
       " Lady          1         48.000000\n",
       " Major         1         48.500000\n",
       " Master        1          6.984000\n",
       "               2          2.757273\n",
       "               3          6.090000\n",
       " Miss          1         30.338983\n",
       "               2         20.717083\n",
       "               3         17.360874\n",
       " Mlle          1         24.000000\n",
       " Mme           1         24.000000\n",
       " Mr            1         41.450758\n",
       "               2         32.346715\n",
       "               3         28.318910\n",
       " Mrs           1         43.208955\n",
       "               2         33.518519\n",
       "               3         32.326531\n",
       " Ms            2         28.000000\n",
       "               3               NaN\n",
       " Rev           2         41.250000\n",
       " Sir           1         49.000000\n",
       " the Countess  1         33.000000\n",
       "Name: Age, dtype: float64"
      ]
     },
     "execution_count": 28,
     "metadata": {},
     "output_type": "execute_result"
    }
   ],
   "source": [
    "data.groupby(['Title1','Pclass'])['Age'].mean()\n",
    "# Can fit the missing age"
   ]
  },
  {
   "cell_type": "code",
   "execution_count": 29,
   "metadata": {},
   "outputs": [],
   "source": [
    "#Replace the Title to 4 Type only \n",
    "\n",
    "data['Title2'] = data['Title1'].replace([' Mlle',' Mme',' Ms',' Dr',' Major',' Lady',' the Countess',' Jonkheer',' Col',' Rev',' Capt',' Sir',' Don',' Dona'],[' Miss',' Mrs',' Miss',' Mr',' Mr',' Mrs',' Mrs',' Mr',' Mr',' Mr',' Mr',' Mr',' Mr',' Mrs'])"
   ]
  },
  {
   "cell_type": "code",
   "execution_count": 30,
   "metadata": {},
   "outputs": [
    {
     "data": {
      "text/plain": [
       "array([' Mr', ' Mrs', ' Miss', ' Master'], dtype=object)"
      ]
     },
     "execution_count": 30,
     "metadata": {},
     "output_type": "execute_result"
    }
   ],
   "source": [
    "data['Title2'].unique()"
   ]
  },
  {
   "cell_type": "code",
   "execution_count": 31,
   "metadata": {},
   "outputs": [
    {
     "data": {
      "text/plain": [
       "Title2\n",
       " Master     5.482642\n",
       " Miss      21.824366\n",
       " Mr        32.811056\n",
       " Mrs       36.971264\n",
       "Name: Age, dtype: float64"
      ]
     },
     "execution_count": 31,
     "metadata": {},
     "output_type": "execute_result"
    }
   ],
   "source": [
    "data.groupby('Title2')['Age'].mean()"
   ]
  },
  {
   "cell_type": "code",
   "execution_count": 32,
   "metadata": {},
   "outputs": [
    {
     "data": {
      "text/plain": [
       "Title2   Pclass\n",
       " Master  1          6.984000\n",
       "         2          2.757273\n",
       "         3          6.090000\n",
       " Miss    1         30.131148\n",
       "         2         20.865714\n",
       "         3         17.360874\n",
       " Mr      1         42.241497\n",
       "         2         32.914966\n",
       "         3         28.318910\n",
       " Mrs     1         42.802817\n",
       "         2         33.518519\n",
       "         3         32.326531\n",
       "Name: Age, dtype: float64"
      ]
     },
     "execution_count": 32,
     "metadata": {},
     "output_type": "execute_result"
    }
   ],
   "source": [
    "data.groupby(['Title2','Pclass'])['Age'].mean()"
   ]
  },
  {
   "cell_type": "code",
   "execution_count": 33,
   "metadata": {},
   "outputs": [
    {
     "data": {
      "text/html": [
       "<style  type=\"text/css\" >\n",
       "    #T_de15897a_24bf_11e9_a2d5_34363b64d44crow0_col0 {\n",
       "            background-color:  #ffff66;\n",
       "        }    #T_de15897a_24bf_11e9_a2d5_34363b64d44crow0_col1 {\n",
       "            background-color:  #008066;\n",
       "        }    #T_de15897a_24bf_11e9_a2d5_34363b64d44crow0_col2 {\n",
       "            background-color:  #ffff66;\n",
       "        }    #T_de15897a_24bf_11e9_a2d5_34363b64d44crow0_col3 {\n",
       "            background-color:  #008066;\n",
       "        }    #T_de15897a_24bf_11e9_a2d5_34363b64d44crow1_col0 {\n",
       "            background-color:  #008066;\n",
       "        }    #T_de15897a_24bf_11e9_a2d5_34363b64d44crow1_col1 {\n",
       "            background-color:  #ffff66;\n",
       "        }    #T_de15897a_24bf_11e9_a2d5_34363b64d44crow1_col2 {\n",
       "            background-color:  #008066;\n",
       "        }    #T_de15897a_24bf_11e9_a2d5_34363b64d44crow1_col3 {\n",
       "            background-color:  #ffff66;\n",
       "        }</style>  \n",
       "<table id=\"T_de15897a_24bf_11e9_a2d5_34363b64d44c\" > \n",
       "<thead>    <tr> \n",
       "        <th class=\"index_name level0\" >Title2</th> \n",
       "        <th class=\"col_heading level0 col0\" > Master</th> \n",
       "        <th class=\"col_heading level0 col1\" > Miss</th> \n",
       "        <th class=\"col_heading level0 col2\" > Mr</th> \n",
       "        <th class=\"col_heading level0 col3\" > Mrs</th> \n",
       "    </tr>    <tr> \n",
       "        <th class=\"index_name level0\" >Sex</th> \n",
       "        <th class=\"blank\" ></th> \n",
       "        <th class=\"blank\" ></th> \n",
       "        <th class=\"blank\" ></th> \n",
       "        <th class=\"blank\" ></th> \n",
       "    </tr></thead> \n",
       "<tbody>    <tr> \n",
       "        <th id=\"T_de15897a_24bf_11e9_a2d5_34363b64d44clevel0_row0\" class=\"row_heading level0 row0\" >female</th> \n",
       "        <td id=\"T_de15897a_24bf_11e9_a2d5_34363b64d44crow0_col0\" class=\"data row0 col0\" >0</td> \n",
       "        <td id=\"T_de15897a_24bf_11e9_a2d5_34363b64d44crow0_col1\" class=\"data row0 col1\" >264</td> \n",
       "        <td id=\"T_de15897a_24bf_11e9_a2d5_34363b64d44crow0_col2\" class=\"data row0 col2\" >1</td> \n",
       "        <td id=\"T_de15897a_24bf_11e9_a2d5_34363b64d44crow0_col3\" class=\"data row0 col3\" >201</td> \n",
       "    </tr>    <tr> \n",
       "        <th id=\"T_de15897a_24bf_11e9_a2d5_34363b64d44clevel0_row1\" class=\"row_heading level0 row1\" >male</th> \n",
       "        <td id=\"T_de15897a_24bf_11e9_a2d5_34363b64d44crow1_col0\" class=\"data row1 col0\" >61</td> \n",
       "        <td id=\"T_de15897a_24bf_11e9_a2d5_34363b64d44crow1_col1\" class=\"data row1 col1\" >0</td> \n",
       "        <td id=\"T_de15897a_24bf_11e9_a2d5_34363b64d44crow1_col2\" class=\"data row1 col2\" >782</td> \n",
       "        <td id=\"T_de15897a_24bf_11e9_a2d5_34363b64d44crow1_col3\" class=\"data row1 col3\" >0</td> \n",
       "    </tr></tbody> \n",
       "</table> "
      ],
      "text/plain": [
       "<pandas.io.formats.style.Styler at 0x11554de10>"
      ]
     },
     "execution_count": 33,
     "metadata": {},
     "output_type": "execute_result"
    }
   ],
   "source": [
    "# Checking the Initials with the Sex\n",
    "pd.crosstab(data['Title2'],data['Sex']).T.style.background_gradient(cmap='summer_r')"
   ]
  },
  {
   "cell_type": "code",
   "execution_count": 34,
   "metadata": {},
   "outputs": [
    {
     "data": {
      "text/html": [
       "<style  type=\"text/css\" >\n",
       "    #T_de1c2782_24bf_11e9_90c4_34363b64d44crow0_col0 {\n",
       "            background-color:  #ffff66;\n",
       "        }    #T_de1c2782_24bf_11e9_90c4_34363b64d44crow0_col1 {\n",
       "            background-color:  #008066;\n",
       "        }    #T_de1c2782_24bf_11e9_90c4_34363b64d44crow0_col2 {\n",
       "            background-color:  #ffff66;\n",
       "        }    #T_de1c2782_24bf_11e9_90c4_34363b64d44crow0_col3 {\n",
       "            background-color:  #008066;\n",
       "        }    #T_de1c2782_24bf_11e9_90c4_34363b64d44crow1_col0 {\n",
       "            background-color:  #008066;\n",
       "        }    #T_de1c2782_24bf_11e9_90c4_34363b64d44crow1_col1 {\n",
       "            background-color:  #ffff66;\n",
       "        }    #T_de1c2782_24bf_11e9_90c4_34363b64d44crow1_col2 {\n",
       "            background-color:  #008066;\n",
       "        }    #T_de1c2782_24bf_11e9_90c4_34363b64d44crow1_col3 {\n",
       "            background-color:  #ffff66;\n",
       "        }</style>  \n",
       "<table id=\"T_de1c2782_24bf_11e9_90c4_34363b64d44c\" > \n",
       "<thead>    <tr> \n",
       "        <th class=\"index_name level0\" >Title2</th> \n",
       "        <th class=\"col_heading level0 col0\" > Master</th> \n",
       "        <th class=\"col_heading level0 col1\" > Miss</th> \n",
       "        <th class=\"col_heading level0 col2\" > Mr</th> \n",
       "        <th class=\"col_heading level0 col3\" > Mrs</th> \n",
       "    </tr>    <tr> \n",
       "        <th class=\"index_name level0\" >Sex</th> \n",
       "        <th class=\"blank\" ></th> \n",
       "        <th class=\"blank\" ></th> \n",
       "        <th class=\"blank\" ></th> \n",
       "        <th class=\"blank\" ></th> \n",
       "    </tr></thead> \n",
       "<tbody>    <tr> \n",
       "        <th id=\"T_de1c2782_24bf_11e9_90c4_34363b64d44clevel0_row0\" class=\"row_heading level0 row0\" >female</th> \n",
       "        <td id=\"T_de1c2782_24bf_11e9_90c4_34363b64d44crow0_col0\" class=\"data row0 col0\" >0</td> \n",
       "        <td id=\"T_de1c2782_24bf_11e9_90c4_34363b64d44crow0_col1\" class=\"data row0 col1\" >264</td> \n",
       "        <td id=\"T_de1c2782_24bf_11e9_90c4_34363b64d44crow0_col2\" class=\"data row0 col2\" >1</td> \n",
       "        <td id=\"T_de1c2782_24bf_11e9_90c4_34363b64d44crow0_col3\" class=\"data row0 col3\" >201</td> \n",
       "    </tr>    <tr> \n",
       "        <th id=\"T_de1c2782_24bf_11e9_90c4_34363b64d44clevel0_row1\" class=\"row_heading level0 row1\" >male</th> \n",
       "        <td id=\"T_de1c2782_24bf_11e9_90c4_34363b64d44crow1_col0\" class=\"data row1 col0\" >61</td> \n",
       "        <td id=\"T_de1c2782_24bf_11e9_90c4_34363b64d44crow1_col1\" class=\"data row1 col1\" >0</td> \n",
       "        <td id=\"T_de1c2782_24bf_11e9_90c4_34363b64d44crow1_col2\" class=\"data row1 col2\" >782</td> \n",
       "        <td id=\"T_de1c2782_24bf_11e9_90c4_34363b64d44crow1_col3\" class=\"data row1 col3\" >0</td> \n",
       "    </tr></tbody> \n",
       "</table> "
      ],
      "text/plain": [
       "<pandas.io.formats.style.Styler at 0x115552f98>"
      ]
     },
     "execution_count": 34,
     "metadata": {},
     "output_type": "execute_result"
    }
   ],
   "source": [
    "# Checking the Initials with the Survived\n",
    "pd.crosstab(data['Title2'],data['Sex']).T.style.background_gradient(cmap='summer_r')"
   ]
  },
  {
   "cell_type": "code",
   "execution_count": 35,
   "metadata": {},
   "outputs": [
    {
     "name": "stdout",
     "output_type": "stream",
     "text": [
      "<class 'pandas.core.frame.DataFrame'>\n",
      "RangeIndex: 1309 entries, 0 to 1308\n",
      "Data columns (total 15 columns):\n",
      "Age            1046 non-null float64\n",
      "Cabin          295 non-null object\n",
      "Embarked       1307 non-null object\n",
      "Fare           1308 non-null float64\n",
      "Name           1309 non-null object\n",
      "Parch          1309 non-null int64\n",
      "PassengerId    1309 non-null int64\n",
      "Pclass         1309 non-null int64\n",
      "Sex            1309 non-null object\n",
      "SibSp          1309 non-null int64\n",
      "Survived       891 non-null float64\n",
      "Ticket         1309 non-null object\n",
      "Family_Size    1309 non-null int64\n",
      "Title1         1309 non-null object\n",
      "Title2         1309 non-null object\n",
      "dtypes: float64(3), int64(5), object(7)\n",
      "memory usage: 153.5+ KB\n"
     ]
    }
   ],
   "source": [
    "data.info()"
   ]
  },
  {
   "cell_type": "code",
   "execution_count": 36,
   "metadata": {},
   "outputs": [
    {
     "data": {
      "text/plain": [
       "0           A/5 21171\n",
       "1            PC 17599\n",
       "2    STON/O2. 3101282\n",
       "3              113803\n",
       "4              373450\n",
       "Name: Ticket, dtype: object"
      ]
     },
     "execution_count": 36,
     "metadata": {},
     "output_type": "execute_result"
    }
   ],
   "source": [
    "data['Ticket'].head()"
   ]
  },
  {
   "cell_type": "code",
   "execution_count": 37,
   "metadata": {},
   "outputs": [],
   "source": [
    "data['Ticket_info']=data['Ticket'].apply(lambda x : x.replace(\".\",\"\").replace(\"/\",\"\").strip().split(' ')[0] if not x.isdigit() else 'X')"
   ]
  },
  {
   "cell_type": "code",
   "execution_count": 38,
   "metadata": {},
   "outputs": [
    {
     "data": {
      "text/plain": [
       "array(['A5', 'PC', 'STONO2', 'X', 'PP', 'CA', 'SCParis', 'SCA4', 'A4',\n",
       "       'SP', 'SOC', 'WC', 'SOTONOQ', 'WEP', 'STONO', 'C', 'SCPARIS',\n",
       "       'SOP', 'Fa', 'LINE', 'FCC', 'SWPP', 'SCOW', 'PPP', 'SC', 'SCAH',\n",
       "       'AS', 'SOPP', 'FC', 'SOTONO2', 'CASOTON', 'SCA3', 'STONOQ', 'AQ4',\n",
       "       'A', 'LP', 'AQ3'], dtype=object)"
      ]
     },
     "execution_count": 38,
     "metadata": {},
     "output_type": "execute_result"
    }
   ],
   "source": [
    "data['Ticket_info'].unique()"
   ]
  },
  {
   "cell_type": "code",
   "execution_count": 39,
   "metadata": {},
   "outputs": [
    {
     "data": {
      "text/plain": [
       "<matplotlib.axes._subplots.AxesSubplot at 0x11556e860>"
      ]
     },
     "execution_count": 39,
     "metadata": {},
     "output_type": "execute_result"
    },
    {
     "data": {
      "image/png": "[encoded data removed]",
      "text/plain": [
       "<matplotlib.figure.Figure at 0x1154e16a0>"
      ]
     },
     "metadata": {},
     "output_type": "display_data"
    }
   ],
   "source": [
    "plt.figure(figsize=(18,6))\n",
    "sns.countplot(data['Ticket_info'],hue=data['Survived'])"
   ]
  },
  {
   "cell_type": "code",
   "execution_count": null,
   "metadata": {},
   "outputs": [],
   "source": []
  },
  {
   "cell_type": "code",
   "execution_count": null,
   "metadata": {},
   "outputs": [],
   "source": []
  },
  {
   "cell_type": "markdown",
   "metadata": {},
   "source": [
    "# Data Preparation"
   ]
  },
  {
   "cell_type": "code",
   "execution_count": 40,
   "metadata": {},
   "outputs": [
    {
     "name": "stdout",
     "output_type": "stream",
     "text": [
      "<class 'pandas.core.frame.DataFrame'>\n",
      "RangeIndex: 1309 entries, 0 to 1308\n",
      "Data columns (total 16 columns):\n",
      "Age            1046 non-null float64\n",
      "Cabin          295 non-null object\n",
      "Embarked       1307 non-null object\n",
      "Fare           1308 non-null float64\n",
      "Name           1309 non-null object\n",
      "Parch          1309 non-null int64\n",
      "PassengerId    1309 non-null int64\n",
      "Pclass         1309 non-null int64\n",
      "Sex            1309 non-null object\n",
      "SibSp          1309 non-null int64\n",
      "Survived       891 non-null float64\n",
      "Ticket         1309 non-null object\n",
      "Family_Size    1309 non-null int64\n",
      "Title1         1309 non-null object\n",
      "Title2         1309 non-null object\n",
      "Ticket_info    1309 non-null object\n",
      "dtypes: float64(3), int64(5), object(8)\n",
      "memory usage: 163.7+ KB\n"
     ]
    }
   ],
   "source": [
    "#Missing Value-embarked, Fare, Age\n",
    "data.info()"
   ]
  },
  {
   "cell_type": "code",
   "execution_count": 41,
   "metadata": {},
   "outputs": [
    {
     "data": {
      "text/plain": [
       "<matplotlib.axes._subplots.AxesSubplot at 0x115a567b8>"
      ]
     },
     "execution_count": 41,
     "metadata": {},
     "output_type": "execute_result"
    },
    {
     "data": {
      "image/png": "[encoded data removed]",
      "text/plain": [
       "<matplotlib.figure.Figure at 0x115a7c400>"
      ]
     },
     "metadata": {},
     "output_type": "display_data"
    }
   ],
   "source": [
    "sns.countplot(data['Embarked'],hue=data['Survived'])"
   ]
  },
  {
   "cell_type": "code",
   "execution_count": 42,
   "metadata": {},
   "outputs": [],
   "source": [
    "data['Embarked']=data['Embarked'].fillna('S')"
   ]
  },
  {
   "cell_type": "code",
   "execution_count": 43,
   "metadata": {},
   "outputs": [
    {
     "name": "stdout",
     "output_type": "stream",
     "text": [
      "<class 'pandas.core.frame.DataFrame'>\n",
      "RangeIndex: 1309 entries, 0 to 1308\n",
      "Data columns (total 16 columns):\n",
      "Age            1046 non-null float64\n",
      "Cabin          295 non-null object\n",
      "Embarked       1309 non-null object\n",
      "Fare           1308 non-null float64\n",
      "Name           1309 non-null object\n",
      "Parch          1309 non-null int64\n",
      "PassengerId    1309 non-null int64\n",
      "Pclass         1309 non-null int64\n",
      "Sex            1309 non-null object\n",
      "SibSp          1309 non-null int64\n",
      "Survived       891 non-null float64\n",
      "Ticket         1309 non-null object\n",
      "Family_Size    1309 non-null int64\n",
      "Title1         1309 non-null object\n",
      "Title2         1309 non-null object\n",
      "Ticket_info    1309 non-null object\n",
      "dtypes: float64(3), int64(5), object(8)\n",
      "memory usage: 163.7+ KB\n"
     ]
    }
   ],
   "source": [
    "data.info()"
   ]
  },
  {
   "cell_type": "code",
   "execution_count": 44,
   "metadata": {},
   "outputs": [
    {
     "name": "stdout",
     "output_type": "stream",
     "text": [
      "<class 'pandas.core.frame.DataFrame'>\n",
      "RangeIndex: 1309 entries, 0 to 1308\n",
      "Data columns (total 16 columns):\n",
      "Age            1046 non-null float64\n",
      "Cabin          295 non-null object\n",
      "Embarked       1309 non-null object\n",
      "Fare           1309 non-null float64\n",
      "Name           1309 non-null object\n",
      "Parch          1309 non-null int64\n",
      "PassengerId    1309 non-null int64\n",
      "Pclass         1309 non-null int64\n",
      "Sex            1309 non-null object\n",
      "SibSp          1309 non-null int64\n",
      "Survived       891 non-null float64\n",
      "Ticket         1309 non-null object\n",
      "Family_Size    1309 non-null int64\n",
      "Title1         1309 non-null object\n",
      "Title2         1309 non-null object\n",
      "Ticket_info    1309 non-null object\n",
      "dtypes: float64(3), int64(5), object(8)\n",
      "memory usage: 163.7+ KB\n"
     ]
    }
   ],
   "source": [
    "data['Fare']=data['Fare'].fillna(data['Fare'].mean())\n",
    "data.info()"
   ]
  },
  {
   "cell_type": "code",
   "execution_count": 45,
   "metadata": {},
   "outputs": [
    {
     "data": {
      "text/plain": [
       "0     NaN\n",
       "1     C85\n",
       "2     NaN\n",
       "3    C123\n",
       "4     NaN\n",
       "Name: Cabin, dtype: object"
      ]
     },
     "execution_count": 45,
     "metadata": {},
     "output_type": "execute_result"
    }
   ],
   "source": [
    "data['Cabin'].head()"
   ]
  },
  {
   "cell_type": "code",
   "execution_count": 46,
   "metadata": {},
   "outputs": [],
   "source": [
    "data['Cabin']=data['Cabin'].apply(lambda x: str(x)[0] if not pd.isnull(x)else 'NoCabin')"
   ]
  },
  {
   "cell_type": "code",
   "execution_count": 47,
   "metadata": {},
   "outputs": [
    {
     "data": {
      "text/plain": [
       "array(['NoCabin', 'C', 'E', 'G', 'D', 'A', 'B', 'F', 'T'], dtype=object)"
      ]
     },
     "execution_count": 47,
     "metadata": {},
     "output_type": "execute_result"
    }
   ],
   "source": [
    "data['Cabin'].unique()"
   ]
  },
  {
   "cell_type": "code",
   "execution_count": 48,
   "metadata": {},
   "outputs": [
    {
     "data": {
      "text/plain": [
       "<matplotlib.axes._subplots.AxesSubplot at 0x115c90080>"
      ]
     },
     "execution_count": 48,
     "metadata": {},
     "output_type": "execute_result"
    },
    {
     "data": {
      "image/png": "[encoded data removed]",
      "text/plain": [
       "<matplotlib.figure.Figure at 0x115567748>"
      ]
     },
     "metadata": {},
     "output_type": "display_data"
    }
   ],
   "source": [
    "sns.countplot(data['Cabin'],hue=data['Survived'])"
   ]
  },
  {
   "cell_type": "code",
   "execution_count": 49,
   "metadata": {},
   "outputs": [
    {
     "data": {
      "text/plain": [
       "array([' Mr', ' Mrs', ' Miss', ' Master', ' Don', ' Rev', ' Dr', ' Mme',\n",
       "       ' Ms', ' Major', ' Lady', ' Sir', ' Mlle', ' Col', ' Capt',\n",
       "       ' the Countess', ' Jonkheer', ' Dona'], dtype=object)"
      ]
     },
     "execution_count": 49,
     "metadata": {},
     "output_type": "execute_result"
    }
   ],
   "source": [
    "data['Title2'] = data['Title1'].replace(['Mlle','Mme','Ms','Dr','Major','Lady','the Countess','Jonkheer','Col','Rev','Capt','Sir','Don','Dona'],['Miss','Mrs','Miss','Mr','Mr','Mrs','Mrs','Mr','Mr','Mr','Mr','Mr','Mr','Mrs'])\n",
    "data['Title2'].unique()"
   ]
  },
  {
   "cell_type": "code",
   "execution_count": 50,
   "metadata": {},
   "outputs": [
    {
     "data": {
      "text/plain": [
       "array(['S', 'C', 'Q'], dtype=object)"
      ]
     },
     "execution_count": 50,
     "metadata": {},
     "output_type": "execute_result"
    }
   ],
   "source": [
    "data['Embarked'].unique()"
   ]
  },
  {
   "cell_type": "code",
   "execution_count": 51,
   "metadata": {},
   "outputs": [
    {
     "name": "stdout",
     "output_type": "stream",
     "text": [
      "people have connected information : 496\n"
     ]
    },
    {
     "data": {
      "text/html": [
       "<div>\n",
       "<style scoped>\n",
       "    .dataframe tbody tr th:only-of-type {\n",
       "        vertical-align: middle;\n",
       "    }\n",
       "\n",
       "    .dataframe tbody tr th {\n",
       "        vertical-align: top;\n",
       "    }\n",
       "\n",
       "    .dataframe thead th {\n",
       "        text-align: right;\n",
       "    }\n",
       "</style>\n",
       "<table border=\"1\" class=\"dataframe\">\n",
       "  <thead>\n",
       "    <tr style=\"text-align: right;\">\n",
       "      <th></th>\n",
       "      <th>Survived</th>\n",
       "    </tr>\n",
       "    <tr>\n",
       "      <th>Connected_Survival</th>\n",
       "      <th></th>\n",
       "    </tr>\n",
       "  </thead>\n",
       "  <tbody>\n",
       "    <tr>\n",
       "      <th>0.0</th>\n",
       "      <td>0.225</td>\n",
       "    </tr>\n",
       "    <tr>\n",
       "      <th>0.5</th>\n",
       "      <td>0.298</td>\n",
       "    </tr>\n",
       "    <tr>\n",
       "      <th>1.0</th>\n",
       "      <td>0.728</td>\n",
       "    </tr>\n",
       "  </tbody>\n",
       "</table>\n",
       "</div>"
      ],
      "text/plain": [
       "                    Survived\n",
       "Connected_Survival          \n",
       "0.0                    0.225\n",
       "0.5                    0.298\n",
       "1.0                    0.728"
      ]
     },
     "execution_count": 51,
     "metadata": {},
     "output_type": "execute_result"
    }
   ],
   "source": [
    "#Feature Engineering for the same ticket family or friends\n",
    "data['Connected_Survival']=0.5 # default\n",
    "\n",
    "for _,df_grp in data.groupby('Ticket'):\n",
    "    if(len(df_grp)>1):\n",
    "        for ind,row in df_grp.iterrows():\n",
    "            smax=df_grp.drop(ind)['Survived'].max()\n",
    "            smin=df_grp.drop(ind)['Survived'].min()\n",
    "            passID=row['PassengerId']\n",
    "            if(smax==1.0):\n",
    "                data.loc[data['PassengerId']==passID,'Connected_Survival']=1\n",
    "            elif(smin==0.0):\n",
    "                data.loc[data['PassengerId']==passID,'Connected_Survival']=0\n",
    "\n",
    "\n",
    "\n",
    "    \n",
    "#print\n",
    "#print('people keep the same ticket: %.0f '%len(deplcate_ticket))\n",
    "print(\"people have connected information : %.0f\"\n",
    "      %(data[data['Connected_Survival']!=0.5].shape[0]))\n",
    "data.groupby('Connected_Survival')[['Survived']].mean().round(3)"
   ]
  },
  {
   "cell_type": "code",
   "execution_count": 52,
   "metadata": {},
   "outputs": [
    {
     "data": {
      "image/png": "[encoded data removed]",
      "text/plain": [
       "<matplotlib.figure.Figure at 0x115d56278>"
      ]
     },
     "metadata": {},
     "output_type": "display_data"
    },
    {
     "data": {
      "image/png": "[encoded data removed]",
      "text/plain": [
       "<matplotlib.figure.Figure at 0x1a1c36b5c0>"
      ]
     },
     "metadata": {},
     "output_type": "display_data"
    }
   ],
   "source": [
    "data['Sex']=data['Sex'].astype('category').cat.codes\n",
    "data['Embarked']=data['Embarked'].astype('category').cat.codes\n",
    "data['Pclass']=data['Pclass'].astype('category').cat.codes\n",
    "data['Title1']=data['Title1'].astype('category').cat.codes\n",
    "data['Title2']=data['Title2'].astype('category').cat.codes\n",
    "data['Cabin']=data['Cabin'].astype('category').cat.codes\n",
    "data['Ticket_info']=data['Ticket_info'].astype('category').cat.codes\n",
    "\n",
    "\n",
    "\n",
    "# there is some bugs in log-scale of boxplot. \n",
    "# alternatively, we transform x into log10(x) for visualization.\n",
    "fig, ax = plt.subplots( figsize = (18,7) )\n",
    "data['Log_Fare'] = (data['Fare']+1).map(lambda x : np.log10(x) if x > 0 else 0)\n",
    "sns.boxplot(y='Pclass', x='Log_Fare',hue='Survived',data=data, orient='h'\n",
    "                ,ax=ax,palette=\"Set3\")\n",
    "ax.set_title(' Log_Fare & Pclass vs Survived ',fontsize = 20)\n",
    "pd.pivot_table(data,values = ['Fare'], index = ['Pclass'], columns= ['Survived'] ,aggfunc = 'median' ).round(3)\n",
    "\n",
    "\n",
    "# Filling missing values\n",
    "# data['Fare'] = data['Fare'].fillna(data['Fare'].median())\n",
    "\n",
    "# Making Bins\n",
    "data['FareBin_4'] = pd.qcut(data['Fare'], 4)\n",
    "data['FareBin_5'] = pd.qcut(data['Fare'], 5)\n",
    "data['FareBin_6'] = pd.qcut(data['Fare'], 6)\n",
    "\n",
    "label = LabelEncoder()\n",
    "data['FareBin_Code_4'] = label.fit_transform(data['FareBin_4'])\n",
    "data['FareBin_Code_5'] = label.fit_transform(data['FareBin_5'])\n",
    "data['FareBin_Code_6'] = label.fit_transform(data['FareBin_6'])\n",
    "\n",
    "# cross tab\n",
    "df_4 = pd.crosstab(data['FareBin_Code_4'],data['Pclass'])\n",
    "df_5 = pd.crosstab(data['FareBin_Code_5'],data['Pclass'])\n",
    "df_6 = pd.crosstab(data['FareBin_Code_6'],data['Pclass'])\n",
    "\n",
    "#display_side_by_side(df_4,df_5,df_6)\n",
    "\n",
    "# plots\n",
    "fig, [ax1, ax2, ax3] = plt.subplots(1, 3,sharey=True)\n",
    "fig.set_figwidth(18)\n",
    "for axi in [ax1, ax2, ax3]:\n",
    "    axi.axhline(0.5,linestyle='dashed', c='black',alpha = .3)\n",
    "g1 = sns.factorplot(x='FareBin_Code_4', y=\"Survived\", data=data,kind='bar',ax=ax1)\n",
    "g2 = sns.factorplot(x='FareBin_Code_5', y=\"Survived\", data=data,kind='bar',ax=ax2)\n",
    "g3 = sns.factorplot(x='FareBin_Code_6', y=\"Survived\", data=data,kind='bar',ax=ax3)\n",
    "# close FacetGrid object\n",
    "plt.close(g1.fig)\n",
    "plt.close(g2.fig)\n",
    "plt.close(g3.fig)\n"
   ]
  },
  {
   "cell_type": "code",
   "execution_count": 53,
   "metadata": {},
   "outputs": [],
   "source": [
    "dataAgeNull = data[data[\"Age\"].isnull()]\n",
    "dataAgeNotNull = data[data[\"Age\"].notnull()]\n",
    "remove_outlier = dataAgeNotNull[(np.abs(dataAgeNotNull[\"Fare\"]-dataAgeNotNull[\"Fare\"].mean())>(4*dataAgeNotNull[\"Fare\"].std()))|\n",
    "                      (np.abs(dataAgeNotNull[\"Family_Size\"]-dataAgeNotNull[\"Family_Size\"].mean())>(4*dataAgeNotNull[\"Family_Size\"].std()))                     \n",
    "                     ]\n",
    "rfModel_age = RandomForestRegressor(n_estimators=2000,random_state=42)\n",
    "ageColumns = ['Embarked', 'Fare', 'Pclass', 'Sex', 'Family_Size', 'Title1', 'Title2','Cabin','Ticket_info']\n",
    "rfModel_age.fit(remove_outlier[ageColumns], remove_outlier[\"Age\"])\n",
    "\n",
    "ageNullValues = rfModel_age.predict(X= dataAgeNull[ageColumns])\n",
    "dataAgeNull.loc[:,\"Age\"] = ageNullValues\n",
    "data = dataAgeNull.append(dataAgeNotNull)\n",
    "data.reset_index(inplace=True, drop=True)\n"
   ]
  },
  {
   "cell_type": "code",
   "execution_count": 54,
   "metadata": {},
   "outputs": [
    {
     "data": {
      "text/plain": [
       "array([0, 1])"
      ]
     },
     "execution_count": 54,
     "metadata": {},
     "output_type": "execute_result"
    }
   ],
   "source": [
    "data['Ti_Age']=data['Age']\n",
    "data['Ti_Minor'] = ((data['Ti_Age']) < 16.0) * 1\n",
    "data['Ti_Minor'].unique()"
   ]
  },
  {
   "cell_type": "code",
   "execution_count": null,
   "metadata": {},
   "outputs": [],
   "source": []
  },
  {
   "cell_type": "code",
   "execution_count": null,
   "metadata": {},
   "outputs": [],
   "source": []
  },
  {
   "cell_type": "markdown",
   "metadata": {},
   "source": [
    "# Modeling"
   ]
  },
  {
   "cell_type": "code",
   "execution_count": 55,
   "metadata": {},
   "outputs": [
    {
     "data": {
      "text/plain": [
       "Index(['Age', 'Cabin', 'Embarked', 'Fare', 'Name', 'Parch', 'PassengerId',\n",
       "       'Pclass', 'Sex', 'SibSp', 'Survived', 'Ticket', 'Family_Size', 'Title1',\n",
       "       'Title2', 'Ticket_info', 'Connected_Survival', 'Log_Fare', 'FareBin_4',\n",
       "       'FareBin_5', 'FareBin_6', 'FareBin_Code_4', 'FareBin_Code_5',\n",
       "       'FareBin_Code_6', 'Ti_Age', 'Ti_Minor'],\n",
       "      dtype='object')"
      ]
     },
     "execution_count": 55,
     "metadata": {},
     "output_type": "execute_result"
    }
   ],
   "source": [
    "dataTrain = data[pd.notnull(data['Survived'])].sort_values(by=[\"PassengerId\"])\n",
    "dataTest = data[~pd.notnull(data['Survived'])].sort_values(by=[\"PassengerId\"])\n",
    "dataTrain.columns"
   ]
  },
  {
   "cell_type": "code",
   "execution_count": 56,
   "metadata": {},
   "outputs": [
    {
     "data": {
      "text/html": [
       "<div>\n",
       "<style scoped>\n",
       "    .dataframe tbody tr th:only-of-type {\n",
       "        vertical-align: middle;\n",
       "    }\n",
       "\n",
       "    .dataframe tbody tr th {\n",
       "        vertical-align: top;\n",
       "    }\n",
       "\n",
       "    .dataframe thead th {\n",
       "        text-align: right;\n",
       "    }\n",
       "</style>\n",
       "<table border=\"1\" class=\"dataframe\">\n",
       "  <thead>\n",
       "    <tr style=\"text-align: right;\">\n",
       "      <th></th>\n",
       "      <th>Survived</th>\n",
       "      <th>Connected_Survival</th>\n",
       "      <th>Ti_Minor</th>\n",
       "      <th>FareBin_Code_5</th>\n",
       "      <th>Pclass</th>\n",
       "      <th>Sex</th>\n",
       "      <th>Title2</th>\n",
       "    </tr>\n",
       "  </thead>\n",
       "  <tbody>\n",
       "    <tr>\n",
       "      <th>263</th>\n",
       "      <td>0.0</td>\n",
       "      <td>0.5</td>\n",
       "      <td>0</td>\n",
       "      <td>0</td>\n",
       "      <td>2</td>\n",
       "      <td>1</td>\n",
       "      <td>12</td>\n",
       "    </tr>\n",
       "    <tr>\n",
       "      <th>264</th>\n",
       "      <td>1.0</td>\n",
       "      <td>0.5</td>\n",
       "      <td>0</td>\n",
       "      <td>4</td>\n",
       "      <td>0</td>\n",
       "      <td>0</td>\n",
       "      <td>13</td>\n",
       "    </tr>\n",
       "    <tr>\n",
       "      <th>265</th>\n",
       "      <td>1.0</td>\n",
       "      <td>0.5</td>\n",
       "      <td>0</td>\n",
       "      <td>1</td>\n",
       "      <td>2</td>\n",
       "      <td>0</td>\n",
       "      <td>9</td>\n",
       "    </tr>\n",
       "    <tr>\n",
       "      <th>266</th>\n",
       "      <td>1.0</td>\n",
       "      <td>0.0</td>\n",
       "      <td>0</td>\n",
       "      <td>4</td>\n",
       "      <td>0</td>\n",
       "      <td>0</td>\n",
       "      <td>13</td>\n",
       "    </tr>\n",
       "    <tr>\n",
       "      <th>267</th>\n",
       "      <td>0.0</td>\n",
       "      <td>0.5</td>\n",
       "      <td>0</td>\n",
       "      <td>1</td>\n",
       "      <td>2</td>\n",
       "      <td>1</td>\n",
       "      <td>12</td>\n",
       "    </tr>\n",
       "  </tbody>\n",
       "</table>\n",
       "</div>"
      ],
      "text/plain": [
       "     Survived  Connected_Survival  Ti_Minor  FareBin_Code_5  Pclass  Sex  \\\n",
       "263       0.0                 0.5         0               0       2    1   \n",
       "264       1.0                 0.5         0               4       0    0   \n",
       "265       1.0                 0.5         0               1       2    0   \n",
       "266       1.0                 0.0         0               4       0    0   \n",
       "267       0.0                 0.5         0               1       2    1   \n",
       "\n",
       "     Title2  \n",
       "263      12  \n",
       "264      13  \n",
       "265       9  \n",
       "266      13  \n",
       "267      12  "
      ]
     },
     "execution_count": 56,
     "metadata": {},
     "output_type": "execute_result"
    }
   ],
   "source": [
    "dataTrain = dataTrain[['Survived','Connected_Survival', 'Ti_Minor',  'FareBin_Code_5',  'Pclass', 'Sex','Title2']]\n",
    "dataTest = dataTest[['Connected_Survival','Ti_Minor', 'FareBin_Code_5', 'Pclass', 'Sex', 'Title2']]\n",
    "dataTrain.head()\n"
   ]
  },
  {
   "cell_type": "code",
   "execution_count": 57,
   "metadata": {},
   "outputs": [],
   "source": [
    "x_train=dataTrain.iloc[:, 1:]\n",
    "y_train=dataTrain.iloc[:, 0]"
   ]
  },
  {
   "cell_type": "code",
   "execution_count": 59,
   "metadata": {},
   "outputs": [
    {
     "name": "stdout",
     "output_type": "stream",
     "text": [
      "0.8439955106621774\n",
      "{'criterion': 'gini', 'min_samples_leaf': 5, 'min_samples_split': 2, 'n_estimators': 50}\n"
     ]
    }
   ],
   "source": [
    "# RandomForest Model training \n",
    "rf = RandomForestClassifier(oob_score=True, random_state=1, n_jobs=-1)\n",
    "param_grid = { \"criterion\" : [\"gini\", \"entropy\"], \"min_samples_leaf\" : [1, 5, 10], \"min_samples_split\" : [2, 4, 10, 12, 16, 20], \"n_estimators\": [50, 100, 400, 700, 1000]}\n",
    "gs = GridSearchCV(estimator=rf, param_grid=param_grid, scoring='accuracy', cv=3, n_jobs=-1)\n",
    "\n",
    "gs = gs.fit(x_train, y_train)\n",
    "\n",
    "print(gs.best_score_)\n",
    "print(gs.best_params_)"
   ]
  },
  {
   "cell_type": "code",
   "execution_count": 60,
   "metadata": {},
   "outputs": [
    {
     "name": "stdout",
     "output_type": "stream",
     "text": [
      "The accuracy of eXtreme Gradient Boosting Classifier on training set: 0.8462401795735129\n"
     ]
    }
   ],
   "source": [
    " \n",
    "rf = RandomForestClassifier(criterion='gini', \n",
    "                             n_estimators=50,\n",
    "                             min_samples_split=2,\n",
    "                             min_samples_leaf=5,\n",
    "                             oob_score=True,\n",
    "                             random_state=40,\n",
    "                             n_jobs=-1) \n",
    "\n",
    "rf.fit(x_train, y_train)\n",
    "print('The accuracy of eXtreme Gradient Boosting Classifier on training set:',rf.oob_score_)\n"
   ]
  },
  {
   "cell_type": "code",
   "execution_count": 61,
   "metadata": {},
   "outputs": [
    {
     "data": {
      "text/html": [
       "<div>\n",
       "<style scoped>\n",
       "    .dataframe tbody tr th:only-of-type {\n",
       "        vertical-align: middle;\n",
       "    }\n",
       "\n",
       "    .dataframe tbody tr th {\n",
       "        vertical-align: top;\n",
       "    }\n",
       "\n",
       "    .dataframe thead th {\n",
       "        text-align: right;\n",
       "    }\n",
       "</style>\n",
       "<table border=\"1\" class=\"dataframe\">\n",
       "  <thead>\n",
       "    <tr style=\"text-align: right;\">\n",
       "      <th></th>\n",
       "      <th>variable</th>\n",
       "      <th>importance</th>\n",
       "    </tr>\n",
       "  </thead>\n",
       "  <tbody>\n",
       "    <tr>\n",
       "      <th>4</th>\n",
       "      <td>Sex</td>\n",
       "      <td>0.398163</td>\n",
       "    </tr>\n",
       "    <tr>\n",
       "      <th>0</th>\n",
       "      <td>Connected_Survival</td>\n",
       "      <td>0.211250</td>\n",
       "    </tr>\n",
       "    <tr>\n",
       "      <th>5</th>\n",
       "      <td>Title2</td>\n",
       "      <td>0.154180</td>\n",
       "    </tr>\n",
       "    <tr>\n",
       "      <th>3</th>\n",
       "      <td>Pclass</td>\n",
       "      <td>0.126078</td>\n",
       "    </tr>\n",
       "    <tr>\n",
       "      <th>2</th>\n",
       "      <td>FareBin_Code_5</td>\n",
       "      <td>0.089401</td>\n",
       "    </tr>\n",
       "    <tr>\n",
       "      <th>1</th>\n",
       "      <td>Ti_Minor</td>\n",
       "      <td>0.020927</td>\n",
       "    </tr>\n",
       "  </tbody>\n",
       "</table>\n",
       "</div>"
      ],
      "text/plain": [
       "             variable  importance\n",
       "4                 Sex    0.398163\n",
       "0  Connected_Survival    0.211250\n",
       "5              Title2    0.154180\n",
       "3              Pclass    0.126078\n",
       "2      FareBin_Code_5    0.089401\n",
       "1            Ti_Minor    0.020927"
      ]
     },
     "execution_count": 61,
     "metadata": {},
     "output_type": "execute_result"
    }
   ],
   "source": [
    "pd.concat((pd.DataFrame(dataTrain.iloc[:, 1:].columns, columns = ['variable']), \n",
    "           pd.DataFrame(rf.feature_importances_, columns = ['importance'])), \n",
    "          axis = 1).sort_values(by='importance', ascending = False)[:20]"
   ]
  },
  {
   "cell_type": "code",
   "execution_count": 62,
   "metadata": {},
   "outputs": [
    {
     "name": "stdout",
     "output_type": "stream",
     "text": [
      "The accuracy of eXtreme Gradient Boosting Classifier on training set: 0.8608305274971941\n"
     ]
    }
   ],
   "source": [
    "# Xgboot Model training \n",
    "xgbc = XGBClassifier(base_score=0.5, \n",
    "                     booster='gbtree', \n",
    "                     colsample_bylevel=1,\n",
    "                     colsample_bytree=1, \n",
    "                     gamma=0, \n",
    "                     learning_rate=0.1, \n",
    "                     max_delta_step=0,\n",
    "                     max_depth=3, \n",
    "                     min_child_weight=1, \n",
    "                     missing=None, \n",
    "                     n_estimators=500,\n",
    "                     n_jobs=3, nthread=None, objective='binary:logistic', random_state=42,\n",
    "                     reg_alpha=0, \n",
    "                     reg_lambda=1, \n",
    "                     scale_pos_weight=1, \n",
    "                     seed=None,\n",
    "                     silent=True, \n",
    "                     subsample=1)\n",
    "\n",
    "\n",
    "xgbc.fit(dataTrain.iloc[:, 1:], dataTrain.iloc[:, 0])\n",
    "print('The accuracy of eXtreme Gradient Boosting Classifier on training set:', xgbc.score(dataTrain.iloc[:, 1:], dataTrain.iloc[:, 0]))\n"
   ]
  },
  {
   "cell_type": "code",
   "execution_count": null,
   "metadata": {},
   "outputs": [],
   "source": []
  },
  {
   "cell_type": "code",
   "execution_count": null,
   "metadata": {},
   "outputs": [],
   "source": []
  },
  {
   "cell_type": "markdown",
   "metadata": {},
   "source": [
    "# Evaluation"
   ]
  },
  {
   "cell_type": "code",
   "execution_count": 63,
   "metadata": {},
   "outputs": [
    {
     "name": "stdout",
     "output_type": "stream",
     "text": [
      "The accuracy of Random Forest Classifier on training set: 0.8462401795735129\n",
      "The accuracy of eXtreme Gradient Boosting Classifier on training set: 0.8608305274971941\n"
     ]
    }
   ],
   "source": [
    "print('The accuracy of Random Forest Classifier on training set:',rf.oob_score_)\n",
    "print('The accuracy of eXtreme Gradient Boosting Classifier on training set:', xgbc.score(dataTrain.iloc[:, 1:], dataTrain.iloc[:, 0]))"
   ]
  },
  {
   "cell_type": "code",
   "execution_count": null,
   "metadata": {},
   "outputs": [],
   "source": []
  },
  {
   "cell_type": "code",
   "execution_count": null,
   "metadata": {},
   "outputs": [],
   "source": []
  },
  {
   "cell_type": "markdown",
   "metadata": {},
   "source": [
    "# Deployment"
   ]
  },
  {
   "cell_type": "code",
   "execution_count": 64,
   "metadata": {},
   "outputs": [
    {
     "data": {
      "text/html": [
       "<div>\n",
       "<style scoped>\n",
       "    .dataframe tbody tr th:only-of-type {\n",
       "        vertical-align: middle;\n",
       "    }\n",
       "\n",
       "    .dataframe tbody tr th {\n",
       "        vertical-align: top;\n",
       "    }\n",
       "\n",
       "    .dataframe thead th {\n",
       "        text-align: right;\n",
       "    }\n",
       "</style>\n",
       "<table border=\"1\" class=\"dataframe\">\n",
       "  <thead>\n",
       "    <tr style=\"text-align: right;\">\n",
       "      <th></th>\n",
       "      <th>PassengerId</th>\n",
       "      <th>Survived</th>\n",
       "    </tr>\n",
       "  </thead>\n",
       "  <tbody>\n",
       "    <tr>\n",
       "      <th>0</th>\n",
       "      <td>892</td>\n",
       "      <td>0</td>\n",
       "    </tr>\n",
       "    <tr>\n",
       "      <th>1</th>\n",
       "      <td>893</td>\n",
       "      <td>1</td>\n",
       "    </tr>\n",
       "    <tr>\n",
       "      <th>2</th>\n",
       "      <td>894</td>\n",
       "      <td>0</td>\n",
       "    </tr>\n",
       "    <tr>\n",
       "      <th>3</th>\n",
       "      <td>895</td>\n",
       "      <td>0</td>\n",
       "    </tr>\n",
       "    <tr>\n",
       "      <th>4</th>\n",
       "      <td>896</td>\n",
       "      <td>1</td>\n",
       "    </tr>\n",
       "  </tbody>\n",
       "</table>\n",
       "</div>"
      ],
      "text/plain": [
       "   PassengerId  Survived\n",
       "0          892         0\n",
       "1          893         1\n",
       "2          894         0\n",
       "3          895         0\n",
       "4          896         1"
      ]
     },
     "execution_count": 64,
     "metadata": {},
     "output_type": "execute_result"
    }
   ],
   "source": [
    "rf_res =  xgbc.predict(dataTest)\n",
    "submit['Survived'] = rf_res\n",
    "submit['Survived'] = submit['Survived'].astype(int)\n",
    "submit.to_csv('submit.csv', index= False)\n",
    "\n",
    "submit.head()"
   ]
  },
  {
   "cell_type": "code",
   "execution_count": null,
   "metadata": {},
   "outputs": [],
   "source": []
  }
 ],
 "metadata": {
  "kernelspec": {
   "display_name": "Python 3",
   "language": "python",
   "name": "python3"
  },
  "language_info": {
   "codemirror_mode": {
    "name": "ipython",
    "version": 3
   },
   "file_extension": ".py",
   "mimetype": "text/x-python",
   "name": "python",
   "nbconvert_exporter": "python",
   "pygments_lexer": "ipython3",
   "version": "3.6.4"
  }
 },
 "nbformat": 4,
 "nbformat_minor": 2
}
